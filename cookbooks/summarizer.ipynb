{
 "cells": [
  {
   "cell_type": "code",
   "execution_count": 1,
   "metadata": {},
   "outputs": [
    {
     "name": "stderr",
     "output_type": "stream",
     "text": [
      "/Users/abcom/.pyenv/versions/3.11.0/envs/reviewturtl/lib/python3.11/site-packages/tqdm/auto.py:21: TqdmWarning: IProgress not found. Please update jupyter and ipywidgets. See https://ipywidgets.readthedocs.io/en/stable/user_install.html\n",
      "  from .autonotebook import tqdm as notebook_tqdm\n"
     ]
    }
   ],
   "source": [
    "import dspy\n",
    "class SummarizerSignature(dspy.Signature):\n",
    "    __doc__ = \"\"\"\n",
    "    Summarize a document based on the difference between the old and new chunk.\\n\n",
    "    The Summary should be in English.\\n\n",
    "    The summary should be thorough and concise.\\n\n",
    "    Do not provide any instructions to the bot on how to perform the review.\\n\n",
    "    Do not mention that files need a through review or caution about potential issues\\n\n",
    "    The summary should not exceed 500 words.\\n\n",
    "    \"\"\"\n",
    "    old_chunk_code:str = dspy.InputField(\n",
    "        desc=\"The code of the document\",\n",
    "    )\n",
    "    new_chunk_code:str = dspy.InputField(\n",
    "        desc=\"The code of the document\",\n",
    "    )\n",
    "    summary:str = dspy.OutputField(\n",
    "        desc=\"The summary of the document\",\n",
    "    )"
   ]
  },
  {
   "cell_type": "code",
   "execution_count": 2,
   "metadata": {},
   "outputs": [],
   "source": [
    "from dotenv import load_dotenv\n",
    "import os\n",
    "load_dotenv()\n",
    "api_key = os.getenv(\"OPENAI_API_KEY\")\n",
    "turbo = dspy.OpenAI(\n",
    "    model=\"gpt-4o\",\n",
    "    api_key=api_key,\n",
    "    max_tokens=3000,\n",
    ")\n",
    "dspy.settings.configure(lm=turbo)"
   ]
  },
  {
   "cell_type": "code",
   "execution_count": 6,
   "metadata": {},
   "outputs": [],
   "source": [
    "class DspyProgramme(dspy.Module):\n",
    "    def __init__(self, signature):\n",
    "        super().__init__()\n",
    "        self.predictor = dspy.TypedChainOfThought(signature)\n",
    "\n",
    "    def forward(self,context):\n",
    "        return dspy.Prediction(\n",
    "            answer=self.predictor(context=context)\n",
    "        )"
   ]
  },
  {
   "cell_type": "code",
   "execution_count": 7,
   "metadata": {},
   "outputs": [],
   "source": [
    "summarizer_programme = DspyProgramme(signature=SummarizerSignature)"
   ]
  },
  {
   "cell_type": "code",
   "execution_count": 12,
   "metadata": {},
   "outputs": [
    {
     "name": "stdout",
     "output_type": "stream",
     "text": [
      "The new code for the `calculate_sum` function includes an additional validation step to check that all elements in the input list are numbers (either integers or floats). If any element is not a number, the function raises a `ValueError`. This enhancement ensures that the function handles invalid inputs more gracefully, preventing potential errors during the summation process. The core functionality of summing the numbers remains the same.\n"
     ]
    }
   ],
   "source": [
    "old_chunk_code = \"\"\"\n",
    "def calculate_sum(numbers):\n",
    "    total = 0\n",
    "    for number in numbers:\n",
    "        total += number\n",
    "    return total\n",
    "\"\"\"\n",
    "\n",
    "new_chunk_code = \"\"\"\n",
    "def calculate_sum(numbers):\n",
    "    if not all(isinstance(i, (int, float)) for i in numbers):\n",
    "        raise ValueError(\"All elements must be numbers\")\n",
    "    total = 0\n",
    "    for number in numbers:\n",
    "        total += number\n",
    "    return total\n",
    "\"\"\"\n",
    "\n",
    "prediction = summarizer_programme.predictor(\n",
    "    old_chunk_code=old_chunk_code,\n",
    "    new_chunk_code=new_chunk_code\n",
    ")\n",
    "summary = prediction.summary\n",
    "print(summary)"
   ]
  }
 ],
 "metadata": {
  "kernelspec": {
   "display_name": "reviewturtl",
   "language": "python",
   "name": "python3"
  },
  "language_info": {
   "codemirror_mode": {
    "name": "ipython",
    "version": 3
   },
   "file_extension": ".py",
   "mimetype": "text/x-python",
   "name": "python",
   "nbconvert_exporter": "python",
   "pygments_lexer": "ipython3",
   "version": "3.11.0"
  }
 },
 "nbformat": 4,
 "nbformat_minor": 2
}
