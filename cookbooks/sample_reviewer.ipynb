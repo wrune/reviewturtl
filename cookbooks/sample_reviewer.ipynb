{
 "cells": [
  {
   "cell_type": "code",
   "execution_count": 1,
   "metadata": {},
   "outputs": [
    {
     "name": "stderr",
     "output_type": "stream",
     "text": [
      "/Users/abcom/.pyenv/versions/3.11.0/envs/reviewturtl/lib/python3.11/site-packages/tqdm/auto.py:21: TqdmWarning: IProgress not found. Please update jupyter and ipywidgets. See https://ipywidgets.readthedocs.io/en/stable/user_install.html\n",
      "  from .autonotebook import tqdm as notebook_tqdm\n"
     ]
    }
   ],
   "source": [
    "import sys\n",
    "sys.path.append(\"/Users/abcom/Desktop/github/reviewturtl\")\n",
    "from reviewturtl.src.agents.reviewer_agent import ReviewerAgent"
   ]
  },
  {
   "cell_type": "code",
   "execution_count": 2,
   "metadata": {},
   "outputs": [],
   "source": [
    "import dspy \n",
    "import os\n",
    "from dotenv import load_dotenv\n",
    "load_dotenv()\n",
    "turbo = dspy.OpenAI(\n",
    "    model=\"gpt-4o\",\n",
    "    api_key=os.getenv(\"OPENAI_API_KEY\"),\n",
    "    max_tokens=3000,\n",
    ")\n",
    "dspy.settings.configure(lm=turbo)"
   ]
  },
  {
   "cell_type": "code",
   "execution_count": 3,
   "metadata": {},
   "outputs": [],
   "source": [
    "r_agent = ReviewerAgent()\n",
    "pred_object = r_agent(file_diff=\"\"\"\n",
    "diff --git a/reviewturtl/src/agents/summarizer_agent.py b/reviewturtl/src/agents/summarizer_agent.py\n",
    "index 83b2c9d..f3b2c9d 100644\n",
    "--- a/reviewturtl/src/agents/summarizer_agent.py\n",
    "+++ b/reviewturtl/src/agents/summarizer_agent.py\n",
    "@@ -1,6 +1,7 @@\n",
    " from reviewturtl.src.programmes.typed_cot import DspyProgramme\n",
    " from reviewturtl.src.signatures.signatures import SummarizerSignature\n",
    " from reviewturtl.src.agents.base_agent import Agent\n",
    "+import logging\n",
    " \n",
    " \n",
    " class SummarizerAgent(Agent):\n",
    "@@ -8,6 +9,8 @@ class SummarizerAgent(Agent):\n",
    " \n",
    "     def forward(self, file_diff):\n",
    "         self.prediction_object = self.programme.predictor(file_diff=file_diff)\n",
    "+        logging.info(\"Prediction object created\")\n",
    "         return self.prediction_object\n",
    " \n",
    "     def walkthrough(self):\n",
    "@@ -20,6 +23,7 @@ class SummarizerAgent(Agent):\n",
    " \n",
    "     def __call__(self, file_diff):\n",
    "         return self.forward(file_diff)\n",
    "+        logging.info(\"SummarizerAgent called with file_diff\")\n",
    " \n",
    " \n",
    " __all__ = [\"SummarizerAgent\"]\n",
    "\n",
    "\"\"\")"
   ]
  },
  {
   "cell_type": "code",
   "execution_count": 5,
   "metadata": {},
   "outputs": [
    {
     "data": {
      "text/plain": [
       "[ReviewComments(line_range='1-1', suggested_code_change=None, comment='Consider adding a module-level docstring to describe the purpose of this module.'),\n",
       " ReviewComments(line_range='4-4', suggested_code_change=None, comment='The import statement for the logging module is a good addition for debugging and monitoring purposes.'),\n",
       " ReviewComments(line_range='10-10', suggested_code_change=None, comment='Adding a logging statement here is useful for tracking when the prediction object is created. However, consider including more context in the log message, such as the file name or a unique identifier for the prediction.'),\n",
       " ReviewComments(line_range='24-24', suggested_code_change=None, comment='The logging statement here is good for tracking when the SummarizerAgent is called. Similar to the previous comment, consider adding more context to the log message.')]"
      ]
     },
     "execution_count": 5,
     "metadata": {},
     "output_type": "execute_result"
    }
   ],
   "source": [
    "pred_object.line_by_line_comments"
   ]
  }
 ],
 "metadata": {
  "kernelspec": {
   "display_name": "reviewturtl",
   "language": "python",
   "name": "python3"
  },
  "language_info": {
   "codemirror_mode": {
    "name": "ipython",
    "version": 3
   },
   "file_extension": ".py",
   "mimetype": "text/x-python",
   "name": "python",
   "nbconvert_exporter": "python",
   "pygments_lexer": "ipython3",
   "version": "3.11.0"
  }
 },
 "nbformat": 4,
 "nbformat_minor": 2
}
