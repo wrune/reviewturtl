{
 "cells": [
  {
   "cell_type": "code",
   "execution_count": 1,
   "metadata": {},
   "outputs": [
    {
     "name": "stderr",
     "output_type": "stream",
     "text": [
      "/Users/abcom/.pyenv/versions/3.11.0/envs/reviewturtl/lib/python3.11/site-packages/tqdm/auto.py:21: TqdmWarning: IProgress not found. Please update jupyter and ipywidgets. See https://ipywidgets.readthedocs.io/en/stable/user_install.html\n",
      "  from .autonotebook import tqdm as notebook_tqdm\n"
     ]
    }
   ],
   "source": [
    "import sys\n",
    "sys.path.append(\"/Users/abcom/Desktop/github/reviewturtl\")\n",
    "from reviewturtl.src.agents.summarizer_agent import SummarizerAgent"
   ]
  },
  {
   "cell_type": "code",
   "execution_count": 2,
   "metadata": {},
   "outputs": [],
   "source": [
    "import dspy \n",
    "import os\n",
    "from dotenv import load_dotenv\n",
    "load_dotenv()\n",
    "turbo = dspy.OpenAI(\n",
    "    model=\"gpt-4o\",\n",
    "    api_key=os.getenv(\"OPENAI_API_KEY\"),\n",
    "    max_tokens=3000,\n",
    ")\n",
    "dspy.settings.configure(lm=turbo)"
   ]
  },
  {
   "cell_type": "code",
   "execution_count": 3,
   "metadata": {},
   "outputs": [],
   "source": [
    "s_agent = SummarizerAgent()\n",
    "pred_object = s_agent(file_diff=\"\"\"\n",
    "diff --git a/reviewturtl/src/agents/summarizer_agent.py b/reviewturtl/src/agents/summarizer_agent.py\n",
    "index 83b2c9d..f3b2c9d 100644\n",
    "--- a/reviewturtl/src/agents/summarizer_agent.py\n",
    "+++ b/reviewturtl/src/agents/summarizer_agent.py\n",
    "@@ -1,6 +1,7 @@\n",
    " from reviewturtl.src.programmes.typed_cot import DspyProgramme\n",
    " from reviewturtl.src.signatures.signatures import SummarizerSignature\n",
    " from reviewturtl.src.agents.base_agent import Agent\n",
    "+import logging\n",
    " \n",
    " \n",
    " class SummarizerAgent(Agent):\n",
    "@@ -8,6 +9,8 @@ class SummarizerAgent(Agent):\n",
    " \n",
    "     def forward(self, file_diff):\n",
    "         self.prediction_object = self.programme.predictor(file_diff=file_diff)\n",
    "+        logging.info(\"Prediction object created\")\n",
    "         return self.prediction_object\n",
    " \n",
    "     def walkthrough(self):\n",
    "@@ -20,6 +23,7 @@ class SummarizerAgent(Agent):\n",
    " \n",
    "     def __call__(self, file_diff):\n",
    "         return self.forward(file_diff)\n",
    "+        logging.info(\"SummarizerAgent called with file_diff\")\n",
    " \n",
    " \n",
    " __all__ = [\"SummarizerAgent\"]\n",
    "\n",
    "\"\"\")"
   ]
  },
  {
   "cell_type": "code",
   "execution_count": 5,
   "metadata": {},
   "outputs": [],
   "source": [
    "import json\n",
    "a = json.dumps(\"\"\"\n",
    "diff --git a/reviewturtl/src/agents/summarizer_agent.py b/reviewturtl/src/agents/summarizer_agent.py\n",
    "index 83b2c9d..f3b2c9d 100644\n",
    "--- a/reviewturtl/src/agents/summarizer_agent.py\n",
    "+++ b/reviewturtl/src/agents/summarizer_agent.py\n",
    "@@ -1,6 +1,7 @@\n",
    " from reviewturtl.src.programmes.typed_cot import DspyProgramme\n",
    " from reviewturtl.src.signatures.signatures import SummarizerSignature\n",
    " from reviewturtl.src.agents.base_agent import Agent\n",
    "+import logging\n",
    " \n",
    " \n",
    " class SummarizerAgent(Agent):\n",
    "@@ -8,6 +9,8 @@ class SummarizerAgent(Agent):\n",
    " \n",
    "     def forward(self, file_diff):\n",
    "         self.prediction_object = self.programme.predictor(file_diff=file_diff)\n",
    "+        logging.info(\"Prediction object created\")\n",
    "         return self.prediction_object\n",
    " \n",
    "     def walkthrough(self):\n",
    "@@ -20,6 +23,7 @@ class SummarizerAgent(Agent):\n",
    " \n",
    "     def __call__(self, file_diff):\n",
    "         return self.forward(file_diff)\n",
    "+        logging.info(\"SummarizerAgent called with file_diff\")\n",
    " \n",
    " \n",
    " __all__ = [\"SummarizerAgent\"]\n",
    "\n",
    "\"\"\")\n",
    "# save as json\n",
    "with open(\"a.json\", \"w\") as f:\n",
    "    f.write(a)\n"
   ]
  },
  {
   "cell_type": "code",
   "execution_count": 6,
   "metadata": {},
   "outputs": [],
   "source": [
    "# dump a python file to json\n",
    "py_file = \"\"\"\n",
    "from reviewturtl.src.programmes.typed_cot import DspyProgramme\n",
    "from reviewturtl.src.signatures.signatures import SummarizerSignature\n",
    "from reviewturtl.src.agents.base_agent import Agent\n",
    "import logging\n",
    "\n",
    "class SummarizerAgent(Agent):\n",
    "\n",
    "    def forward(self, file_diff):\n",
    "        self.prediction_object = self.programme.predictor(file_diff=file_diff)\n",
    "        logging.info(\"Prediction object created\")\n",
    "        return self.prediction_object\n",
    "\n",
    "    def walkthrough(self):\n",
    "        # ... existing code ...\n",
    "\n",
    "    def __call__(self, file_diff):\n",
    "        return self.forward(file_diff)\n",
    "        logging.info(\"SummarizerAgent called with file_diff\")\n",
    "\n",
    "__all__ = [\"SummarizerAgent\"]\n",
    "\"\"\"\n",
    "b = json.dumps(py_file)\n",
    "with open(\"b.json\", \"w\") as f:\n",
    "    f.write(b)"
   ]
  },
  {
   "cell_type": "code",
   "execution_count": 4,
   "metadata": {},
   "outputs": [
    {
     "data": {
      "text/plain": [
       "'Logging functionality has been added to the `SummarizerAgent` class to provide information when certain methods are called.'"
      ]
     },
     "execution_count": 4,
     "metadata": {},
     "output_type": "execute_result"
    }
   ],
   "source": [
    "pred_object.walkthrough"
   ]
  },
  {
   "cell_type": "code",
   "execution_count": 5,
   "metadata": {},
   "outputs": [
    {
     "data": {
      "text/markdown": [
       "| File Name | Changes |\n",
       "| --------- | -------- |\n",
       "| reviewturtl/src/agents/summarizer_agent.py | Added logging statements to track the creation of the prediction object and the invocation of the `SummarizerAgent` with `file_diff`. |"
      ],
      "text/plain": [
       "<IPython.core.display.Markdown object>"
      ]
     },
     "metadata": {},
     "output_type": "display_data"
    }
   ],
   "source": [
    "from IPython.display import display, Markdown\n",
    "\n",
    "display(Markdown(pred_object.changes_in_tabular_description))\n"
   ]
  },
  {
   "cell_type": "code",
   "execution_count": null,
   "metadata": {},
   "outputs": [],
   "source": []
  }
 ],
 "metadata": {
  "kernelspec": {
   "display_name": "reviewturtl",
   "language": "python",
   "name": "python3"
  },
  "language_info": {
   "codemirror_mode": {
    "name": "ipython",
    "version": 3
   },
   "file_extension": ".py",
   "mimetype": "text/x-python",
   "name": "python",
   "nbconvert_exporter": "python",
   "pygments_lexer": "ipython3",
   "version": "3.11.0"
  }
 },
 "nbformat": 4,
 "nbformat_minor": 2
}
