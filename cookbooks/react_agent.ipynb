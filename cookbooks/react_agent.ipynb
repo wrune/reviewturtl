{
 "cells": [
  {
   "cell_type": "code",
   "execution_count": 1,
   "metadata": {},
   "outputs": [
    {
     "name": "stderr",
     "output_type": "stream",
     "text": [
      "/Users/abcom/.pyenv/versions/3.11.0/envs/reviewturtl/lib/python3.11/site-packages/tqdm/auto.py:21: TqdmWarning: IProgress not found. Please update jupyter and ipywidgets. See https://ipywidgets.readthedocs.io/en/stable/user_install.html\n",
      "  from .autonotebook import tqdm as notebook_tqdm\n"
     ]
    }
   ],
   "source": [
    "import sys\n",
    "sys.path.append(\"/Users/abcom/Desktop/github/reviewturtl\")\n",
    "from reviewturtl.src.agents.summarizer_agent import SummarizerAgent\n",
    "from reviewturtl.src.agents.code_search_agent import CodeSearchAgent"
   ]
  },
  {
   "cell_type": "code",
   "execution_count": 2,
   "metadata": {},
   "outputs": [
    {
     "data": {
      "text/plain": [
       "<dsp.modules.gpt3.GPT3 at 0x1030bced0>"
      ]
     },
     "execution_count": 2,
     "metadata": {},
     "output_type": "execute_result"
    }
   ],
   "source": [
    "from reviewturtl.settings import initialize_dspy_with_configs\n",
    "initialize_dspy_with_configs()"
   ]
  },
  {
   "cell_type": "code",
   "execution_count": 3,
   "metadata": {},
   "outputs": [],
   "source": [
    "import dspy"
   ]
  },
  {
   "cell_type": "code",
   "execution_count": 19,
   "metadata": {},
   "outputs": [],
   "source": [
    "agents = [SummarizerAgent, CodeSearchAgent]\n",
    "agents_dict = {}\n",
    "arg_agent_mapper = {}\n",
    "for agent in agents:\n",
    "    agent_init = agent()\n",
    "    agents_dict[agent_init.class_name] = agent_init.desc\n",
    "    arg_agent_mapper[agent_init.class_name] = agent_init.input_variables"
   ]
  },
  {
   "cell_type": "code",
   "execution_count": 20,
   "metadata": {},
   "outputs": [
    {
     "data": {
      "text/plain": [
       "{'SummarizerAgent': 'A summarizer agent that summarizes the changes in a file diff.',\n",
       " 'CodeSearchAgent': 'A code search agent that searches for code in a repository.'}"
      ]
     },
     "execution_count": 20,
     "metadata": {},
     "output_type": "execute_result"
    }
   ],
   "source": [
    "agents_dict"
   ]
  },
  {
   "cell_type": "code",
   "execution_count": 9,
   "metadata": {},
   "outputs": [],
   "source": [
    "from typing import List, Dict\n",
    "class ReactSignature(dspy.Signature):\n",
    "    __doc__ = \"\"\"\n",
    "    INSTRUCTIONS TO FOLLOW\\n\n",
    "    >>> Available agents are the agents that are available to answer the query. They are in a dictionary format with the key as the agent name and the value as the agent description\\n\n",
    "    >>> Think step by step on what agents are best suited to answer the query\\n\n",
    "    >>> Choose the best agents (can be more than one) to answer the query\\n\n",
    "    >>> Return the agents in a list\\n\n",
    "    \"\"\"\n",
    "    conversation_history: str = dspy.InputField(desc=\"The conversation history so far\")\n",
    "    query: str = dspy.InputField(\n",
    "        desc=\"The latest user query based on which the agent is to be chosen\"\n",
    "    )\n",
    "    available_agents: Dict[str, str] = dspy.InputField(\n",
    "        desc=\"The Dictionary of available agents with the agent name as the key and the agent description as the value\"\n",
    "    )\n",
    "    agents_to_use: List[str] = dspy.OutputField(desc=\"The List of agents to use\")"
   ]
  },
  {
   "cell_type": "code",
   "execution_count": 10,
   "metadata": {},
   "outputs": [],
   "source": [
    "pg = dspy.TypedChainOfThought(ReactSignature)\n",
    "pred = pg(conversation_history=\"\", query=\"i want to summarize the changes in this file\", available_agents=agents_dict)"
   ]
  },
  {
   "cell_type": "code",
   "execution_count": 11,
   "metadata": {},
   "outputs": [
    {
     "data": {
      "text/plain": [
       "Prediction(\n",
       "    reasoning='{\\n  \"value\": [\\n    \"SummarizerAgent\"\\n  ]\\n}',\n",
       "    agents_to_use=['SummarizerAgent']\n",
       ")"
      ]
     },
     "execution_count": 11,
     "metadata": {},
     "output_type": "execute_result"
    }
   ],
   "source": [
    "pred"
   ]
  },
  {
   "cell_type": "code",
   "execution_count": 21,
   "metadata": {},
   "outputs": [],
   "source": [
    "agent_being_used = pred.agents_to_use[0]\n",
    "args_to_find = arg_agent_mapper[agent_being_used]"
   ]
  },
  {
   "cell_type": "code",
   "execution_count": 22,
   "metadata": {},
   "outputs": [
    {
     "data": {
      "text/plain": [
       "['file_diff']"
      ]
     },
     "execution_count": 22,
     "metadata": {},
     "output_type": "execute_result"
    }
   ],
   "source": [
    "args_to_find"
   ]
  },
  {
   "cell_type": "code",
   "execution_count": null,
   "metadata": {},
   "outputs": [],
   "source": [
    "agent_being_used"
   ]
  },
  {
   "cell_type": "code",
   "execution_count": 23,
   "metadata": {},
   "outputs": [],
   "source": [
    "file_diff = \"\"\"\n",
    "diff --git a/reviewturtl/src/agents/summarizer_agent.py b/reviewturtl/src/agents/summarizer_agent.py\n",
    "index 83b2c9d..f3b2c9d 100644\n",
    "--- a/reviewturtl/src/agents/summarizer_agent.py\n",
    "+++ b/reviewturtl/src/agents/summarizer_agent.py\n",
    "@@ -1,6 +1,7 @@\n",
    " from reviewturtl.src.programmes.typed_cot import DspyProgramme\n",
    " from reviewturtl.src.signatures.signatures import SummarizerSignature\n",
    " from reviewturtl.src.agents.base_agent import Agent\n",
    "+import logging\n",
    " \n",
    " \n",
    " class SummarizerAgent(Agent):\n",
    "@@ -8,6 +9,8 @@ class SummarizerAgent(Agent):\n",
    " \n",
    "     def forward(self, file_diff):\n",
    "         self.prediction_object = self.programme.predictor(file_diff=file_diff)\n",
    "+        logging.info(\"Prediction object created\")\n",
    "         return self.prediction_object\n",
    " \n",
    "     def walkthrough(self):\n",
    "@@ -20,6 +23,7 @@ class SummarizerAgent(Agent):\n",
    " \n",
    "     def __call__(self, file_diff):\n",
    "         return self.forward(file_diff)\n",
    "+        logging.info(\"SummarizerAgent called with file_diff\")\n",
    " \n",
    " \n",
    " __all__ = [\"SummarizerAgent\"]\n",
    "\n",
    "\"\"\""
   ]
  },
  {
   "cell_type": "code",
   "execution_count": 28,
   "metadata": {},
   "outputs": [],
   "source": [
    "class FindArgumentsForAgent(dspy.Signature):\n",
    "    __doc__ = \"\"\"\n",
    "    INSTRUCTIONS TO FOLLOW\\n\n",
    "    >>> \n",
    "    \"\"\"\n",
    "    context: Dict[str, str] = dspy.InputField(desc=\"The context whatever is provided to be used for finding the arguments\")\n",
    "    agent_being_used_with_desc: Dict[str, str] = dspy.InputField(desc=\"The agent being used with the agent name and the agent description\")\n",
    "    argumets_to_find: List[str] = dspy.InputField(desc=\"The arguments to find for the agent\")\n",
    "    args_with_values: Dict[str, str] = dspy.OutputField(desc=\"The mapping of the arguments to the agent with key as the argument name and value as the argument value\")"
   ]
  },
  {
   "cell_type": "code",
   "execution_count": 32,
   "metadata": {},
   "outputs": [
    {
     "data": {
      "text/plain": [
       "['file_diff']"
      ]
     },
     "execution_count": 32,
     "metadata": {},
     "output_type": "execute_result"
    }
   ],
   "source": [
    "args_to_find"
   ]
  },
  {
   "cell_type": "code",
   "execution_count": 33,
   "metadata": {},
   "outputs": [
    {
     "data": {
      "text/plain": [
       "Prediction(\n",
       "    reasoning='{\\n  \"value\": {\\n    \"file_diff\": \"\\\\ndiff --git a/reviewturtl/src/agents/summarizer_agent.py b/reviewturtl/src/agents/summarizer_agent.py\\\\nindex 83b2c9d..f3b2c9d 100644\\\\n--- a/reviewturtl/src/agents/summarizer_agent.py\\\\n+++ b/reviewturtl/src/agents/summarizer_agent.py\\\\n@@ -1,6 +1,7 @@\\\\n from reviewturtl.src.programmes.typed_cot import DspyProgramme\\\\n from reviewturtl.src.signatures.signatures import SummarizerSignature\\\\n from reviewturtl.src.agents.base_agent import Agent\\\\n+import logging\\\\n \\\\n \\\\n class SummarizerAgent(Agent):\\\\n@@ -8,6 +9,8 @@ class SummarizerAgent(Agent):\\\\n \\\\n     def forward(self, file_diff):\\\\n         self.prediction_object = self.programme.predictor(file_diff=file_diff)\\\\n+        logging.info(\\\\\"Prediction object created\\\\\")\\\\n         return self.prediction_object\\\\n \\\\n     def walkthrough(self):\\\\n@@ -20,6 +23,7 @@ class SummarizerAgent(Agent):\\\\n \\\\n     def __call__(self, file_diff):\\\\n         return self.forward(file_diff)\\\\n+        logging.info(\\\\\"SummarizerAgent called with file_diff\\\\\")\\\\n \\\\n \\\\n __all__ = [\\\\\"SummarizerAgent\\\\\"]\\\\n\\\\n\"\\n  }\\n}',\n",
       "    args_with_values={'file_diff': '\\ndiff --git a/reviewturtl/src/agents/summarizer_agent.py b/reviewturtl/src/agents/summarizer_agent.py\\nindex 83b2c9d..f3b2c9d 100644\\n--- a/reviewturtl/src/agents/summarizer_agent.py\\n+++ b/reviewturtl/src/agents/summarizer_agent.py\\n@@ -1,6 +1,7 @@\\n from reviewturtl.src.programmes.typed_cot import DspyProgramme\\n from reviewturtl.src.signatures.signatures import SummarizerSignature\\n from reviewturtl.src/agents/base_agent import Agent\\n+import logging\\n \\n \\n class SummarizerAgent(Agent):\\n@@ -8,6 +9,8 @@ class SummarizerAgent(Agent):\\n \\n     def forward(self, file_diff):\\n         self.prediction_object = self.programme.predictor(file_diff=file_diff)\\n+        logging.info(\"Prediction object created\")\\n         return self.prediction_object\\n \\n     def walkthrough(self):\\n@@ -20,6 +23,7 @@ class SummarizerAgent(Agent):\\n \\n     def __call__(self, file_diff):\\n         return self.forward(file_diff)\\n+        logging.info(\"SummarizerAgent called with file_diff\")\\n \\n \\n __all__ = [\"SummarizerAgent\"]\\n\\n'}\n",
       ")"
      ]
     },
     "execution_count": 33,
     "metadata": {},
     "output_type": "execute_result"
    }
   ],
   "source": [
    "pg = dspy.TypedChainOfThought(FindArgumentsForAgent)\n",
    "pred = pg(context={'file_diff': file_diff,'commit_hash':\"2034\",\"query\":\"i want to summarize the changes in this file\"}, agent_being_used_with_desc={agents_dict[agent_being_used]:agent_being_used}, argumets_to_find=args_to_find)\n",
    "pred"
   ]
  },
  {
   "cell_type": "code",
   "execution_count": null,
   "metadata": {},
   "outputs": [],
   "source": []
  }
 ],
 "metadata": {
  "kernelspec": {
   "display_name": "reviewturtl",
   "language": "python",
   "name": "python3"
  },
  "language_info": {
   "codemirror_mode": {
    "name": "ipython",
    "version": 3
   },
   "file_extension": ".py",
   "mimetype": "text/x-python",
   "name": "python",
   "nbconvert_exporter": "python",
   "pygments_lexer": "ipython3",
   "version": "3.11.0"
  }
 },
 "nbformat": 4,
 "nbformat_minor": 2
}
