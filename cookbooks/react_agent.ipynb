{
 "cells": [
  {
   "cell_type": "code",
   "execution_count": 13,
   "metadata": {},
   "outputs": [],
   "source": [
    "import sys\n",
    "sys.path.append(\"/Users/abcom/Desktop/github/reviewturtl\")\n",
    "from reviewturtl.src.agents.summarizer_agent import SummarizerAgent\n",
    "from reviewturtl.src.agents.code_search_agent import CodeSearchAgent"
   ]
  },
  {
   "cell_type": "code",
   "execution_count": 14,
   "metadata": {},
   "outputs": [
    {
     "data": {
      "text/plain": [
       "True"
      ]
     },
     "execution_count": 14,
     "metadata": {},
     "output_type": "execute_result"
    }
   ],
   "source": [
    "from dotenv import load_dotenv\n",
    "load_dotenv(dotenv_path=\"/Users/abcom/Desktop/github/reviewturtl/.env\")"
   ]
  },
  {
   "cell_type": "code",
   "execution_count": 2,
   "metadata": {},
   "outputs": [
    {
     "data": {
      "text/plain": [
       "<dsp.modules.gpt3.GPT3 at 0x301566ed0>"
      ]
     },
     "execution_count": 2,
     "metadata": {},
     "output_type": "execute_result"
    }
   ],
   "source": [
    "from reviewturtl.settings import initialize_dspy_with_configs\n",
    "initialize_dspy_with_configs()"
   ]
  },
  {
   "cell_type": "code",
   "execution_count": 3,
   "metadata": {},
   "outputs": [],
   "source": [
    "import dspy"
   ]
  },
  {
   "cell_type": "code",
   "execution_count": 19,
   "metadata": {},
   "outputs": [],
   "source": [
    "agents = [SummarizerAgent, CodeSearchAgent]\n",
    "agents_dict = {}\n",
    "arg_agent_mapper = {}\n",
    "for agent in agents:\n",
    "    agent_init = agent()\n",
    "    agents_dict[agent_init.class_name] = agent_init.desc\n",
    "    arg_agent_mapper[agent_init.class_name] = agent_init.input_variables"
   ]
  },
  {
   "cell_type": "code",
   "execution_count": 20,
   "metadata": {},
   "outputs": [
    {
     "data": {
      "text/plain": [
       "{'SummarizerAgent': 'A summarizer agent that summarizes the changes in a file diff.',\n",
       " 'CodeSearchAgent': 'A code search agent that searches for code in a repository.'}"
      ]
     },
     "execution_count": 20,
     "metadata": {},
     "output_type": "execute_result"
    }
   ],
   "source": [
    "agents_dict"
   ]
  },
  {
   "cell_type": "code",
   "execution_count": 9,
   "metadata": {},
   "outputs": [],
   "source": [
    "from typing import List, Dict\n",
    "class ReactSignature(dspy.Signature):\n",
    "    __doc__ = \"\"\"\n",
    "    INSTRUCTIONS TO FOLLOW\\n\n",
    "    >>> Available agents are the agents that are available to answer the query. They are in a dictionary format with the key as the agent name and the value as the agent description\\n\n",
    "    >>> Think step by step on what agents are best suited to answer the query\\n\n",
    "    >>> Choose the best agents (can be more than one) to answer the query\\n\n",
    "    >>> Return the agents in a list\\n\n",
    "    \"\"\"\n",
    "    conversation_history: str = dspy.InputField(desc=\"The conversation history so far\")\n",
    "    query: str = dspy.InputField(\n",
    "        desc=\"The latest user query based on which the agent is to be chosen\"\n",
    "    )\n",
    "    available_agents: Dict[str, str] = dspy.InputField(\n",
    "        desc=\"The Dictionary of available agents with the agent name as the key and the agent description as the value\"\n",
    "    )\n",
    "    agents_to_use: List[str] = dspy.OutputField(desc=\"The List of agents to use\")"
   ]
  },
  {
   "cell_type": "code",
   "execution_count": 34,
   "metadata": {},
   "outputs": [],
   "source": [
    "pg = dspy.TypedChainOfThought(ReactSignature)\n",
    "pred = pg(conversation_history=\"\", query=\"i need to implement health endpoint for the api\", available_agents=agents_dict)"
   ]
  },
  {
   "cell_type": "code",
   "execution_count": 35,
   "metadata": {},
   "outputs": [
    {
     "data": {
      "text/plain": [
       "Prediction(\n",
       "    reasoning='{\\n  \"value\": [\\n    \"CodeSearchAgent\"\\n  ]\\n}',\n",
       "    agents_to_use=['CodeSearchAgent']\n",
       ")"
      ]
     },
     "execution_count": 35,
     "metadata": {},
     "output_type": "execute_result"
    }
   ],
   "source": [
    "pred"
   ]
  },
  {
   "cell_type": "code",
   "execution_count": 36,
   "metadata": {},
   "outputs": [],
   "source": [
    "agent_being_used = pred.agents_to_use[0]\n",
    "args_to_find = arg_agent_mapper[agent_being_used]"
   ]
  },
  {
   "cell_type": "code",
   "execution_count": 37,
   "metadata": {},
   "outputs": [
    {
     "data": {
      "text/plain": [
       "['search_query', 'context_related_to_search_query']"
      ]
     },
     "execution_count": 37,
     "metadata": {},
     "output_type": "execute_result"
    }
   ],
   "source": [
    "args_to_find"
   ]
  },
  {
   "cell_type": "code",
   "execution_count": null,
   "metadata": {},
   "outputs": [],
   "source": [
    "agent_being_used"
   ]
  },
  {
   "cell_type": "code",
   "execution_count": 15,
   "metadata": {},
   "outputs": [],
   "source": [
    "file_diff = \"\"\"\n",
    "diff --git a/reviewturtl/src/agents/summarizer_agent.py b/reviewturtl/src/agents/summarizer_agent.py\n",
    "index 83b2c9d..f3b2c9d 100644\n",
    "--- a/reviewturtl/src/agents/summarizer_agent.py\n",
    "+++ b/reviewturtl/src/agents/summarizer_agent.py\n",
    "@@ -1,6 +1,7 @@\n",
    " from reviewturtl.src.programmes.typed_cot import DspyProgramme\n",
    " from reviewturtl.src.signatures.signatures import SummarizerSignature\n",
    " from reviewturtl.src.agents.base_agent import Agent\n",
    "+import logging\n",
    " \n",
    " \n",
    " class SummarizerAgent(Agent):\n",
    "@@ -8,6 +9,8 @@ class SummarizerAgent(Agent):\n",
    " \n",
    "     def forward(self, file_diff):\n",
    "         self.prediction_object = self.programme.predictor(file_diff=file_diff)\n",
    "+        logging.info(\"Prediction object created\")\n",
    "         return self.prediction_object\n",
    " \n",
    "     def walkthrough(self):\n",
    "@@ -20,6 +23,7 @@ class SummarizerAgent(Agent):\n",
    " \n",
    "     def __call__(self, file_diff):\n",
    "         return self.forward(file_diff)\n",
    "+        logging.info(\"SummarizerAgent called with file_diff\")\n",
    " \n",
    " \n",
    " __all__ = [\"SummarizerAgent\"]\n",
    "\n",
    "\"\"\""
   ]
  },
  {
   "cell_type": "code",
   "execution_count": 28,
   "metadata": {},
   "outputs": [],
   "source": [
    "class FindArgumentsForAgent(dspy.Signature):\n",
    "    __doc__ = \"\"\"\n",
    "    INSTRUCTIONS TO FOLLOW\\n\n",
    "    >>> \n",
    "    \"\"\"\n",
    "    context: Dict[str, str] = dspy.InputField(desc=\"The context whatever is provided to be used for finding the arguments\")\n",
    "    agent_being_used_with_desc: Dict[str, str] = dspy.InputField(desc=\"The agent being used with the agent name and the agent description\")\n",
    "    argumets_to_find: List[str] = dspy.InputField(desc=\"The arguments to find for the agent\")\n",
    "    args_with_values: Dict[str, str] = dspy.OutputField(desc=\"The mapping of the arguments to the agent with key as the argument name and value as the argument value\")"
   ]
  },
  {
   "cell_type": "code",
   "execution_count": 4,
   "metadata": {},
   "outputs": [
    {
     "ename": "NameError",
     "evalue": "name 'args_to_find' is not defined",
     "output_type": "error",
     "traceback": [
      "\u001b[0;31m---------------------------------------------------------------------------\u001b[0m",
      "\u001b[0;31mNameError\u001b[0m                                 Traceback (most recent call last)",
      "Cell \u001b[0;32mIn[4], line 1\u001b[0m\n\u001b[0;32m----> 1\u001b[0m \u001b[43margs_to_find\u001b[49m\n",
      "\u001b[0;31mNameError\u001b[0m: name 'args_to_find' is not defined"
     ]
    }
   ],
   "source": [
    "args_to_find"
   ]
  },
  {
   "cell_type": "code",
   "execution_count": 5,
   "metadata": {},
   "outputs": [
    {
     "ename": "NameError",
     "evalue": "name 'dspy' is not defined",
     "output_type": "error",
     "traceback": [
      "\u001b[0;31m---------------------------------------------------------------------------\u001b[0m",
      "\u001b[0;31mNameError\u001b[0m                                 Traceback (most recent call last)",
      "Cell \u001b[0;32mIn[5], line 1\u001b[0m\n\u001b[0;32m----> 1\u001b[0m pg \u001b[38;5;241m=\u001b[39m \u001b[43mdspy\u001b[49m\u001b[38;5;241m.\u001b[39mTypedChainOfThought(FindArgumentsForAgent)\n\u001b[1;32m      2\u001b[0m pred \u001b[38;5;241m=\u001b[39m pg(context\u001b[38;5;241m=\u001b[39m{\u001b[38;5;124m'\u001b[39m\u001b[38;5;124mfile_diff\u001b[39m\u001b[38;5;124m'\u001b[39m: file_diff,\u001b[38;5;124m'\u001b[39m\u001b[38;5;124mcommit_hash\u001b[39m\u001b[38;5;124m'\u001b[39m:\u001b[38;5;124m\"\u001b[39m\u001b[38;5;124m2034\u001b[39m\u001b[38;5;124m\"\u001b[39m,\u001b[38;5;124m\"\u001b[39m\u001b[38;5;124mquery\u001b[39m\u001b[38;5;124m\"\u001b[39m:\u001b[38;5;124m\"\u001b[39m\u001b[38;5;124mi want to summarize the changes in this file\u001b[39m\u001b[38;5;124m\"\u001b[39m}, agent_being_used_with_desc\u001b[38;5;241m=\u001b[39m{agents_dict[agent_being_used]:agent_being_used}, argumets_to_find\u001b[38;5;241m=\u001b[39margs_to_find)\n\u001b[1;32m      3\u001b[0m pred\n",
      "\u001b[0;31mNameError\u001b[0m: name 'dspy' is not defined"
     ]
    }
   ],
   "source": [
    "pg = dspy.TypedChainOfThought(FindArgumentsForAgent)\n",
    "pred = pg(context={'file_diff': file_diff,'commit_hash':\"2034\",\"query\":\"i want to summarize the changes in this file\"}, agent_being_used_with_desc={agents_dict[agent_being_used]:agent_being_used}, argumets_to_find=args_to_find)\n",
    "pred"
   ]
  },
  {
   "cell_type": "code",
   "execution_count": 16,
   "metadata": {},
   "outputs": [
    {
     "data": {
      "text/plain": [
       "{'SummarizerAgent': {'class_name': 'SummarizerAgent',\n",
       "  'description': 'A summarizer agent that summarizes the changes in a file diff.',\n",
       "  'input_variables': ['file_diff'],\n",
       "  'class_object': <reviewturtl.src.agents.summarizer_agent.SummarizerAgent at 0x3013caf90>},\n",
       " 'CodeSearchAgent': {'class_name': 'CodeSearchAgent',\n",
       "  'description': 'A code search agent that searches for code in a repository.',\n",
       "  'input_variables': ['search_query', 'collection_name'],\n",
       "  'class_object': <reviewturtl.src.agents.code_search_agent.CodeSearchAgent at 0x3044a2210>}}"
      ]
     },
     "execution_count": 16,
     "metadata": {},
     "output_type": "execute_result"
    }
   ],
   "source": [
    "from reviewturtl.src.agents.utils import agent_dict\n",
    "agent_dict"
   ]
  },
  {
   "cell_type": "code",
   "execution_count": 17,
   "metadata": {},
   "outputs": [
    {
     "data": {
      "text/plain": [
       "['SummarizerAgent', 'CodeSearchAgent']"
      ]
     },
     "execution_count": 17,
     "metadata": {},
     "output_type": "execute_result"
    }
   ],
   "source": [
    "list(agent_dict.keys())"
   ]
  },
  {
   "cell_type": "code",
   "execution_count": 18,
   "metadata": {},
   "outputs": [],
   "source": [
    "ob = agent_dict[\"SummarizerAgent\"][\"class_object\"]"
   ]
  },
  {
   "cell_type": "code",
   "execution_count": 19,
   "metadata": {},
   "outputs": [
    {
     "name": "stderr",
     "output_type": "stream",
     "text": [
      "2024-08-17 22:42:03,556 - reviewturtl.src.agents.react_agent - INFO - Provided Agents: {'SummarizerAgent': 'A summarizer agent that summarizes the changes in a file diff.', 'CodeSearchAgent': 'A code search agent that searches for code in a repository.'}\n",
      "2024-08-17 22:42:03,569 - reviewturtl.src.agents.react_agent - INFO - Agents to use: ['CodeSearchAgent']\n",
      "2024-08-17 22:42:03,570 - reviewturtl.src.agents.react_agent - INFO - Agent Being Used With Desc: {'CodeSearchAgent': 'A code search agent that searches for code in a repository.'}\n",
      "2024-08-17 22:42:03,570 - reviewturtl.src.agents.react_agent - INFO - Args to find: ['search_query', 'collection_name']\n",
      "2024-08-17 22:42:03,581 - reviewturtl.src.agents.react_agent - INFO - Agent Caller: {'CodeSearchAgent': {'search_query': 'SummarizerAgent', 'collection_name': 'code_search'}}\n",
      "2024-08-17 22:42:03,581 - reviewturtl.src.agents.react_agent - INFO - Args for agent: {'search_query': 'SummarizerAgent', 'collection_name': 'code_search'}\n"
     ]
    },
    {
     "name": "stderr",
     "output_type": "stream",
     "text": [
      "Batches: 100%|██████████| 1/1 [00:00<00:00,  2.33it/s]\n",
      "2024-08-17 22:42:04,097 - httpx - INFO - HTTP Request: POST http://localhost:6333/collections/code_search/points/query \"HTTP/1.1 200 OK\"\n",
      "2024-08-17 22:42:13,800 - httpx - INFO - HTTP Request: POST https://api.openai.com/v1/chat/completions \"HTTP/1.1 200 OK\"\n",
      "2024-08-17 22:42:19,740 - httpx - INFO - HTTP Request: POST https://api.openai.com/v1/chat/completions \"HTTP/1.1 200 OK\"\n"
     ]
    }
   ],
   "source": [
    "from reviewturtl.src.agents.react_agent import ReactAgent\n",
    "ragent = ReactAgent()\n",
    "context = {\"file_diff\":file_diff,\"collection_name\":\"code_search\"}\n",
    "answer = ragent(conversation_history=\"\", query=\"please tell me how to implement health endpoint for the api\", context=context)"
   ]
  },
  {
   "cell_type": "code",
   "execution_count": 20,
   "metadata": {},
   "outputs": [
    {
     "name": "stdout",
     "output_type": "stream",
     "text": [
      "To implement a health endpoint for your API, you can follow these general steps:\n",
      "\n",
      "1. **Define the Health Endpoint**: Decide on the URL path for your health endpoint, commonly `/health` or `/status`.\n",
      "\n",
      "2. **Create the Endpoint Handler**: Implement a function that will handle requests to the health endpoint. This function should check the health of your application and return an appropriate response.\n",
      "\n",
      "3. **Check Application Health**: In the handler function, perform checks to ensure that your application is running correctly. This might include checking database connections, external service availability, or other critical components.\n",
      "\n",
      "4. **Return Health Status**: Return a response indicating the health status of your application. This is typically a JSON object with a status field.\n",
      "\n",
      "Here is an example implementation in Python using the Flask framework:\n",
      "\n",
      "```python\n",
      "from flask import Flask, jsonify\n",
      "\n",
      "app = Flask(__name__)\n",
      "\n",
      "@app.route('/health', methods=['GET'])\n",
      "def health_check():\n",
      "    # Perform health checks here (e.g., database connection, external services)\n",
      "    health_status = {\n",
      "        'status': 'healthy',\n",
      "        'database': 'connected',\n",
      "        'external_service': 'available'\n",
      "    }\n",
      "    return jsonify(health_status), 200\n",
      "\n",
      "if __name__ == '__main__':\n",
      "    app.run(host='0.0.0.0', port=5000)\n",
      "```\n",
      "\n",
      "In this example:\n",
      "- The `/health` endpoint is defined.\n",
      "- The `health_check` function performs health checks and returns a JSON response with the health status.\n",
      "- The application runs on `0.0.0.0` and port `5000`.\n",
      "\n",
      "You can customize the health checks and the response based on your application's requirements.\n"
     ]
    }
   ],
   "source": [
    "print(answer)"
   ]
  },
  {
   "cell_type": "code",
   "execution_count": null,
   "metadata": {},
   "outputs": [],
   "source": []
  }
 ],
 "metadata": {
  "kernelspec": {
   "display_name": "reviewturtl",
   "language": "python",
   "name": "python3"
  },
  "language_info": {
   "codemirror_mode": {
    "name": "ipython",
    "version": 3
   },
   "file_extension": ".py",
   "mimetype": "text/x-python",
   "name": "python",
   "nbconvert_exporter": "python",
   "pygments_lexer": "ipython3",
   "version": "3.11.0"
  }
 },
 "nbformat": 4,
 "nbformat_minor": 2
}
