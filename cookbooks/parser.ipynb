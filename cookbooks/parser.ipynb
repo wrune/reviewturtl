{
 "cells": [
  {
   "cell_type": "code",
   "execution_count": 2,
   "metadata": {},
   "outputs": [],
   "source": [
    "from tree_sitter_language_pack import get_binding, get_language, get_parser\n",
    "\n",
    "python_binding = get_binding('python')  # this is an int pointing to the C binding\n",
    "python_lang = get_language('python')  # this is an instance of tree_sitter.Language\n",
    "python_parser = get_parser('python')  # this is an instance of tree_sitter.Parser"
   ]
  },
  {
   "cell_type": "code",
   "execution_count": null,
   "metadata": {},
   "outputs": [],
   "source": []
  },
  {
   "cell_type": "code",
   "execution_count": 3,
   "metadata": {},
   "outputs": [
    {
     "data": {
      "text/plain": [
       "'module'"
      ]
     },
     "execution_count": 3,
     "metadata": {},
     "output_type": "execute_result"
    }
   ],
   "source": [
    "python_node = python_parser.parse(bytes(\"\"\"\n",
    "class Node:\n",
    "    def __init__(self):\n",
    "        self.x = 10\n",
    "    def return_type(self):\n",
    "        return self.x\n",
    "\"\"\", \"utf8\"))\n",
    "\n",
    "python_node.root_node.type"
   ]
  },
  {
   "cell_type": "code",
   "execution_count": 4,
   "metadata": {},
   "outputs": [
    {
     "name": "stdout",
     "output_type": "stream",
     "text": [
      "module\n",
      "b'class Node:\\n    def __init__(self):\\n        self.x = 10\\n    def return_type(self):\\n        return self.x\\n'\n"
     ]
    }
   ],
   "source": [
    "root_node = python_node.root_node\n",
    "print(root_node.type)\n",
    "print(root_node.text)"
   ]
  },
  {
   "cell_type": "code",
   "execution_count": 4,
   "metadata": {},
   "outputs": [
    {
     "data": {
      "text/plain": [
       "[<Node type=class_definition, start_point=(1, 0), end_point=(5, 21)>]"
      ]
     },
     "execution_count": 4,
     "metadata": {},
     "output_type": "execute_result"
    }
   ],
   "source": [
    "# get functions from root node \n",
    "root_node.children"
   ]
  },
  {
   "cell_type": "code",
   "execution_count": 5,
   "metadata": {},
   "outputs": [],
   "source": [
    "# ge"
   ]
  },
  {
   "cell_type": "code",
   "execution_count": 5,
   "metadata": {},
   "outputs": [],
   "source": [
    "javascript_binding = get_binding('javascript')  # this is an int pointing to the C binding\n",
    "javascript_lang = get_language('javascript')  # this is an instance of tree_sitter.Language\n",
    "javascript_parser = get_parser('javascript')  # this is an instance of tree_sitter.Parser"
   ]
  },
  {
   "cell_type": "code",
   "execution_count": 6,
   "metadata": {},
   "outputs": [],
   "source": [
    "js_node = javascript_parser.parse(bytes(\"\"\"\n",
    "function hello() {\n",
    "    return \"Hello, world!\";\n",
    "}\n",
    "\"\"\", \"utf8\"))"
   ]
  },
  {
   "cell_type": "code",
   "execution_count": 8,
   "metadata": {},
   "outputs": [
    {
     "data": {
      "text/plain": [
       "'program'"
      ]
     },
     "execution_count": 8,
     "metadata": {},
     "output_type": "execute_result"
    }
   ],
   "source": [
    "js_node.root_node.type"
   ]
  },
  {
   "cell_type": "code",
   "execution_count": 29,
   "metadata": {},
   "outputs": [],
   "source": [
    "from pathlib import Path\n",
    "\n",
    "def extract_nodes(tree, source_code, source_code_path):\n",
    "    def get_node_text(node):\n",
    "        return source_code[node.start_byte:node.end_byte].decode('utf-8')\n",
    "\n",
    "    def get_module_name(file_path):\n",
    "        module_name = Path(file_path).stem\n",
    "        return module_name\n",
    "\n",
    "    def get_struct_name(node):\n",
    "        if node.type == 'class_definition':\n",
    "            start_byte = node.start_byte\n",
    "            end_byte = node.end_byte\n",
    "            definition = source_code[start_byte:end_byte].decode('utf-8')\n",
    "            class_name = definition.split()[1].split('(')[0]\n",
    "\n",
    "            return class_name\n",
    "\n",
    "        return None\n",
    "\n",
    "    def get_context(node):\n",
    "        file_path = Path(source_code_path).resolve()\n",
    "        file_name = Path(file_path).name\n",
    "        module = get_module_name(file_path)\n",
    "        struct_name = get_struct_name(node)\n",
    "\n",
    "        return {\n",
    "            \"module\": module,\n",
    "            \"file_path\": str(file_path),\n",
    "            \"file_name\": file_name,\n",
    "            \"struct_name\": struct_name,\n",
    "            \"snippet\": get_node_text(node)\n",
    "        }\n",
    "\n",
    "    root_node = tree.root_node\n",
    "    class_node = None\n",
    "    results = []\n",
    "    allowed_node_types = [\"class_definition\", \"function_definition\"]\n",
    "\n",
    "    # Traverse the tree to find classes and methods\n",
    "    def traverse(node):\n",
    "        nonlocal class_node\n",
    "\n",
    "        if node.type in allowed_node_types:\n",
    "            class_node = node\n",
    "            results.append({\n",
    "                \"name\": get_node_text(node.child_by_field_name('name')),\n",
    "                \"signature\": get_node_text(node),\n",
    "                \"code_type\": node.type,\n",
    "                \"docstring\": None,\n",
    "                \"line\": node.start_point[0] + 1,\n",
    "                \"line_from\": node.start_point[0] + 1,\n",
    "                \"line_to\": node.end_point[0] + 1,\n",
    "                \"context\": get_context(node)\n",
    "            })\n",
    "\n",
    "        # if node.type == 'class_definition':\n",
    "        #     class_node = node\n",
    "        #     class_info = {\n",
    "        #         \"name\": get_node_text(node.child_by_field_name('name')),\n",
    "        #         \"signature\": get_node_text(node),\n",
    "        #         \"code_type\": \"Class\",\n",
    "        #         \"docstring\": None,\n",
    "        #         \"line\": node.start_point[0] + 1,\n",
    "        #         \"line_from\": node.start_point[0] + 1,\n",
    "        #         \"line_to\": node.end_point[0] + 1,\n",
    "        #         \"context\": get_context(node)\n",
    "        #     }\n",
    "        #     results.append(class_info)\n",
    "        # elif node.type == 'function_definition' and class_node:\n",
    "        #     method_info = {\n",
    "        #         \"name\": get_node_text(node.child_by_field_name('name')),\n",
    "        #         \"signature\": get_node_text(node),\n",
    "        #         \"code_type\": \"Method\",\n",
    "        #         \"docstring\": None,\n",
    "        #         \"line\": node.start_point[0] + 1,\n",
    "        #         \"line_from\": node.start_point[0] + 1,\n",
    "        #         \"line_to\": node.end_point[0] + 1,\n",
    "        #         \"context\": get_context(node)\n",
    "        #     }\n",
    "        #     results.append(method_info)\n",
    "        for child in node.children:\n",
    "            traverse(child)\n",
    "\n",
    "    traverse(root_node)\n",
    "    return results"
   ]
  },
  {
   "cell_type": "code",
   "execution_count": 28,
   "metadata": {},
   "outputs": [
    {
     "data": {
      "text/plain": [
       "[{'name': <Node type=identifier, start_point=(11, 4), end_point=(11, 18)>,\n",
       "  'signature': 'def calculate_area(radius):\\n    \"\"\"Calculate the area of a circle given its radius.\"\"\"\\n    if radius <= 0:\\n        raise ValueError(\"Radius must be positive\")\\n    return PI * (radius ** 2)',\n",
       "  'code_type': 'function_definition',\n",
       "  'docstring': None,\n",
       "  'line': 12,\n",
       "  'line_from': 12,\n",
       "  'line_to': 16,\n",
       "  'context': {'module': 'example',\n",
       "   'file_path': '/home/devblin/desktop/project/reviewturtl/cookbooks/example.py',\n",
       "   'file_name': 'example.py',\n",
       "   'struct_name': None,\n",
       "   'snippet': 'def calculate_area(radius):\\n    \"\"\"Calculate the area of a circle given its radius.\"\"\"\\n    if radius <= 0:\\n        raise ValueError(\"Radius must be positive\")\\n    return PI * (radius ** 2)'}},\n",
       " {'name': <Node type=identifier, start_point=(18, 6), end_point=(18, 12)>,\n",
       "  'signature': 'class Circle:\\n    def __init__(self, radius):\\n        self.radius = radius\\n\\n    def area(self):\\n        return calculate_area(self.radius)\\n\\n    def circumference(self):\\n        return 2 * PI * self.radius',\n",
       "  'code_type': 'class_definition',\n",
       "  'docstring': None,\n",
       "  'line': 19,\n",
       "  'line_from': 19,\n",
       "  'line_to': 27,\n",
       "  'context': {'module': 'example',\n",
       "   'file_path': '/home/devblin/desktop/project/reviewturtl/cookbooks/example.py',\n",
       "   'file_name': 'example.py',\n",
       "   'struct_name': 'Circle:',\n",
       "   'snippet': 'class Circle:\\n    def __init__(self, radius):\\n        self.radius = radius\\n\\n    def area(self):\\n        return calculate_area(self.radius)\\n\\n    def circumference(self):\\n        return 2 * PI * self.radius'}},\n",
       " {'name': <Node type=identifier, start_point=(19, 8), end_point=(19, 16)>,\n",
       "  'signature': 'def __init__(self, radius):\\n        self.radius = radius',\n",
       "  'code_type': 'function_definition',\n",
       "  'docstring': None,\n",
       "  'line': 20,\n",
       "  'line_from': 20,\n",
       "  'line_to': 21,\n",
       "  'context': {'module': 'example',\n",
       "   'file_path': '/home/devblin/desktop/project/reviewturtl/cookbooks/example.py',\n",
       "   'file_name': 'example.py',\n",
       "   'struct_name': None,\n",
       "   'snippet': 'def __init__(self, radius):\\n        self.radius = radius'}},\n",
       " {'name': <Node type=identifier, start_point=(22, 8), end_point=(22, 12)>,\n",
       "  'signature': 'def area(self):\\n        return calculate_area(self.radius)',\n",
       "  'code_type': 'function_definition',\n",
       "  'docstring': None,\n",
       "  'line': 23,\n",
       "  'line_from': 23,\n",
       "  'line_to': 24,\n",
       "  'context': {'module': 'example',\n",
       "   'file_path': '/home/devblin/desktop/project/reviewturtl/cookbooks/example.py',\n",
       "   'file_name': 'example.py',\n",
       "   'struct_name': None,\n",
       "   'snippet': 'def area(self):\\n        return calculate_area(self.radius)'}},\n",
       " {'name': <Node type=identifier, start_point=(25, 8), end_point=(25, 21)>,\n",
       "  'signature': 'def circumference(self):\\n        return 2 * PI * self.radius',\n",
       "  'code_type': 'function_definition',\n",
       "  'docstring': None,\n",
       "  'line': 26,\n",
       "  'line_from': 26,\n",
       "  'line_to': 27,\n",
       "  'context': {'module': 'example',\n",
       "   'file_path': '/home/devblin/desktop/project/reviewturtl/cookbooks/example.py',\n",
       "   'file_name': 'example.py',\n",
       "   'struct_name': None,\n",
       "   'snippet': 'def circumference(self):\\n        return 2 * PI * self.radius'}},\n",
       " {'name': <Node type=identifier, start_point=(29, 4), end_point=(29, 27)>,\n",
       "  'signature': 'def print_circle_properties(circles):\\n    for circle in circles:\\n        if isinstance(circle, Circle):\\n            print(f\"Circle with radius {circle.radius}:\")\\n            print(f\" - Area: {circle.area()}\")\\n            print(f\" - Circumference: {circle.circumference()}\")\\n        else:\\n            print(\"Invalid circle object\")',\n",
       "  'code_type': 'function_definition',\n",
       "  'docstring': None,\n",
       "  'line': 30,\n",
       "  'line_from': 30,\n",
       "  'line_to': 37,\n",
       "  'context': {'module': 'example',\n",
       "   'file_path': '/home/devblin/desktop/project/reviewturtl/cookbooks/example.py',\n",
       "   'file_name': 'example.py',\n",
       "   'struct_name': None,\n",
       "   'snippet': 'def print_circle_properties(circles):\\n    for circle in circles:\\n        if isinstance(circle, Circle):\\n            print(f\"Circle with radius {circle.radius}:\")\\n            print(f\" - Area: {circle.area()}\")\\n            print(f\" - Circumference: {circle.circumference()}\")\\n        else:\\n            print(\"Invalid circle object\")'}},\n",
       " {'name': <Node type=identifier, start_point=(39, 4), end_point=(39, 20)>,\n",
       "  'signature': 'def generate_circles(count):\\n    return [Circle(radius) for radius in range(1, count + 1)]',\n",
       "  'code_type': 'function_definition',\n",
       "  'docstring': None,\n",
       "  'line': 40,\n",
       "  'line_from': 40,\n",
       "  'line_to': 41,\n",
       "  'context': {'module': 'example',\n",
       "   'file_path': '/home/devblin/desktop/project/reviewturtl/cookbooks/example.py',\n",
       "   'file_name': 'example.py',\n",
       "   'struct_name': None,\n",
       "   'snippet': 'def generate_circles(count):\\n    return [Circle(radius) for radius in range(1, count + 1)]'}},\n",
       " {'name': <Node type=identifier, start_point=(43, 4), end_point=(43, 23)>,\n",
       "  'signature': 'def safe_calculate_area(radius):\\n    try:\\n        return calculate_area(radius)\\n    except ValueError as e:\\n        print(f\"Error: {e}\")',\n",
       "  'code_type': 'function_definition',\n",
       "  'docstring': None,\n",
       "  'line': 44,\n",
       "  'line_from': 44,\n",
       "  'line_to': 48,\n",
       "  'context': {'module': 'example',\n",
       "   'file_path': '/home/devblin/desktop/project/reviewturtl/cookbooks/example.py',\n",
       "   'file_name': 'example.py',\n",
       "   'struct_name': None,\n",
       "   'snippet': 'def safe_calculate_area(radius):\\n    try:\\n        return calculate_area(radius)\\n    except ValueError as e:\\n        print(f\"Error: {e}\")'}},\n",
       " {'name': <Node type=identifier, start_point=(50, 4), end_point=(50, 24)>,\n",
       "  'signature': \"def save_circles_to_file(circles, filename):\\n    with open(filename, 'w') as f:\\n        json.dump([circle.radius for circle in circles], f)\",\n",
       "  'code_type': 'function_definition',\n",
       "  'docstring': None,\n",
       "  'line': 51,\n",
       "  'line_from': 51,\n",
       "  'line_to': 53,\n",
       "  'context': {'module': 'example',\n",
       "   'file_path': '/home/devblin/desktop/project/reviewturtl/cookbooks/example.py',\n",
       "   'file_name': 'example.py',\n",
       "   'struct_name': None,\n",
       "   'snippet': \"def save_circles_to_file(circles, filename):\\n    with open(filename, 'w') as f:\\n        json.dump([circle.radius for circle in circles], f)\"}},\n",
       " {'name': <Node type=identifier, start_point=(54, 4), end_point=(54, 26)>,\n",
       "  'signature': \"def load_circles_from_file(filename):\\n    if os.path.exists(filename):\\n        with open(filename, 'r') as f:\\n            radii = json.load(f)\\n            return [Circle(radius) for radius in radii]\\n    return []\",\n",
       "  'code_type': 'function_definition',\n",
       "  'docstring': None,\n",
       "  'line': 55,\n",
       "  'line_from': 55,\n",
       "  'line_to': 60,\n",
       "  'context': {'module': 'example',\n",
       "   'file_path': '/home/devblin/desktop/project/reviewturtl/cookbooks/example.py',\n",
       "   'file_name': 'example.py',\n",
       "   'struct_name': None,\n",
       "   'snippet': \"def load_circles_from_file(filename):\\n    if os.path.exists(filename):\\n        with open(filename, 'r') as f:\\n            radii = json.load(f)\\n            return [Circle(radius) for radius in radii]\\n    return []\"}}]"
      ]
     },
     "execution_count": 28,
     "metadata": {},
     "output_type": "execute_result"
    }
   ],
   "source": [
    "# source_code = bytes(\"\"\"\n",
    "#                     class Node: \n",
    "#                         def __init__(self): \n",
    "#                             self.x = 10 \n",
    "#                         def return_type(self): \n",
    "#                             y = return_type()\n",
    "\n",
    "#                             return\"\"\",\"utf-8\")\n",
    "\n",
    "source_code_path = \"example.py\"\n",
    "\n",
    "with open(source_code_path, \"rb\") as file:\n",
    "    source_code = file.read()\n",
    "\n",
    "python_node = python_parser.parse(source_code)\n",
    "\n",
    "extract_nodes(python_node, source_code, source_code_path)"
   ]
  },
  {
   "cell_type": "code",
   "execution_count": null,
   "metadata": {},
   "outputs": [],
   "source": []
  }
 ],
 "metadata": {
  "kernelspec": {
   "display_name": "reviewturtl",
   "language": "python",
   "name": "python3"
  },
  "language_info": {
   "codemirror_mode": {
    "name": "ipython",
    "version": 3
   },
   "file_extension": ".py",
   "mimetype": "text/x-python",
   "name": "python",
   "nbconvert_exporter": "python",
   "pygments_lexer": "ipython3",
   "version": "3.11.5"
  }
 },
 "nbformat": 4,
 "nbformat_minor": 2
}
