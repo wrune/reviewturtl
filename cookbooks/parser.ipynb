{
 "cells": [
  {
   "cell_type": "code",
   "execution_count": 10,
   "metadata": {},
   "outputs": [],
   "source": [
    "from tree_sitter_language_pack import get_binding, get_language, get_parser\n",
    "\n",
    "python_binding = get_binding('python')  # this is an int pointing to the C binding\n",
    "python_lang = get_language('python')  # this is an instance of tree_sitter.Language\n",
    "python_parser = get_parser('python')  # this is an instance of tree_sitter.Parser"
   ]
  },
  {
   "cell_type": "code",
   "execution_count": 32,
   "metadata": {},
   "outputs": [
    {
     "data": {
      "text/plain": [
       "'module'"
      ]
     },
     "execution_count": 32,
     "metadata": {},
     "output_type": "execute_result"
    }
   ],
   "source": [
    "python_node = python_parser.parse(bytes(\"\"\"\n",
    "class Node:\n",
    "    def __init__(self):\n",
    "        self.x = 10\n",
    "    def return_type(self):\n",
    "        return self.x\n",
    "\"\"\", \"utf8\"))\n",
    "\n",
    "python_node.root_node.type"
   ]
  },
  {
   "cell_type": "code",
   "execution_count": 33,
   "metadata": {},
   "outputs": [
    {
     "name": "stdout",
     "output_type": "stream",
     "text": [
      "module\n",
      "b'class Node:\\n    def __init__(self):\\n        self.x = 10\\n    def return_type(self):\\n        return self.x\\n'\n"
     ]
    }
   ],
   "source": [
    "root_node = python_node.root_node\n",
    "print(root_node.type)\n",
    "print(root_node.text)"
   ]
  },
  {
   "cell_type": "code",
   "execution_count": 34,
   "metadata": {},
   "outputs": [
    {
     "data": {
      "text/plain": [
       "[<Node type=class_definition, start_point=(1, 0), end_point=(5, 21)>]"
      ]
     },
     "execution_count": 34,
     "metadata": {},
     "output_type": "execute_result"
    }
   ],
   "source": [
    "# get functions from root node \n",
    "root_node.children"
   ]
  },
  {
   "cell_type": "code",
   "execution_count": 35,
   "metadata": {},
   "outputs": [
    {
     "data": {
      "text/plain": [
       "1"
      ]
     },
     "execution_count": 35,
     "metadata": {},
     "output_type": "execute_result"
    }
   ],
   "source": [
    "# ge"
   ]
  },
  {
   "cell_type": "code",
   "execution_count": 11,
   "metadata": {},
   "outputs": [],
   "source": [
    "javascript_binding = get_binding('javascript')  # this is an int pointing to the C binding\n",
    "javascript_lang = get_language('javascript')  # this is an instance of tree_sitter.Language\n",
    "javascript_parser = get_parser('javascript')  # this is an instance of tree_sitter.Parser"
   ]
  },
  {
   "cell_type": "code",
   "execution_count": 13,
   "metadata": {},
   "outputs": [],
   "source": [
    "js_node = javascript_parser.parse(bytes(\"\"\"\n",
    "function hello() {\n",
    "    return \"Hello, world!\";\n",
    "}\n",
    "\"\"\", \"utf8\"))"
   ]
  },
  {
   "cell_type": "code",
   "execution_count": 14,
   "metadata": {},
   "outputs": [
    {
     "data": {
      "text/plain": [
       "'program'"
      ]
     },
     "execution_count": 14,
     "metadata": {},
     "output_type": "execute_result"
    }
   ],
   "source": [
    "js_node.root_node.type"
   ]
  },
  {
   "cell_type": "code",
   "execution_count": 36,
   "metadata": {},
   "outputs": [],
   "source": [
    "def extract_nodes(tree, source_code):\n",
    "    def get_node_text(node):\n",
    "        return source_code[node.start_byte:node.end_byte].decode('utf-8')\n",
    "\n",
    "    def get_context(node):\n",
    "        return {\n",
    "            \"module\": \"settings\",\n",
    "            \"file_path\": \"/Users/abcom/Desktop/github/reviewturtl/reviewturtl/settings.py\",\n",
    "            \"file_name\": \"settings.py\",\n",
    "            \"struct_name\": \"Settings\",\n",
    "            \"snippet\": get_node_text(node)\n",
    "        }\n",
    "\n",
    "    root_node = tree.root_node\n",
    "    class_node = None\n",
    "    results = []\n",
    "\n",
    "    # Traverse the tree to find classes and methods\n",
    "    def traverse(node):\n",
    "        nonlocal class_node\n",
    "        if node.type == 'class_definition':\n",
    "            class_node = node\n",
    "            class_info = {\n",
    "                \"name\": get_node_text(node.child_by_field_name('name')),\n",
    "                \"signature\": get_node_text(node),\n",
    "                \"code_type\": \"Class\",\n",
    "                \"docstring\": None,\n",
    "                \"line\": node.start_point[0] + 1,\n",
    "                \"line_from\": node.start_point[0] + 1,\n",
    "                \"line_to\": node.end_point[0] + 1,\n",
    "                \"context\": get_context(node)\n",
    "            }\n",
    "            results.append(class_info)\n",
    "        elif node.type == 'function_definition' and class_node:\n",
    "            method_info = {\n",
    "                \"name\": get_node_text(node.child_by_field_name('name')),\n",
    "                \"signature\": get_node_text(node),\n",
    "                \"code_type\": \"Method\",\n",
    "                \"docstring\": None,\n",
    "                \"line\": node.start_point[0] + 1,\n",
    "                \"line_from\": node.start_point[0] + 1,\n",
    "                \"line_to\": node.end_point[0] + 1,\n",
    "                \"context\": get_context(node)\n",
    "            }\n",
    "            results.append(method_info)\n",
    "        for child in node.children:\n",
    "            traverse(child)\n",
    "\n",
    "    traverse(root_node)\n",
    "    return results"
   ]
  },
  {
   "cell_type": "code",
   "execution_count": 42,
   "metadata": {},
   "outputs": [
    {
     "data": {
      "text/plain": [
       "[{'name': 'Node',\n",
       "  'signature': 'class Node: \\n                        def __init__(self): \\n                            self.x = 10 \\n                        def return_type(self): \\n                            return self.x',\n",
       "  'code_type': 'Class',\n",
       "  'docstring': None,\n",
       "  'line': 2,\n",
       "  'line_from': 2,\n",
       "  'line_to': 6,\n",
       "  'context': {'module': 'settings',\n",
       "   'file_path': '/Users/abcom/Desktop/github/reviewturtl/reviewturtl/settings.py',\n",
       "   'file_name': 'settings.py',\n",
       "   'struct_name': 'Settings',\n",
       "   'snippet': 'class Node: \\n                        def __init__(self): \\n                            self.x = 10 \\n                        def return_type(self): \\n                            return self.x'}},\n",
       " {'name': '__init__',\n",
       "  'signature': 'def __init__(self): \\n                            self.x = 10',\n",
       "  'code_type': 'Method',\n",
       "  'docstring': None,\n",
       "  'line': 3,\n",
       "  'line_from': 3,\n",
       "  'line_to': 4,\n",
       "  'context': {'module': 'settings',\n",
       "   'file_path': '/Users/abcom/Desktop/github/reviewturtl/reviewturtl/settings.py',\n",
       "   'file_name': 'settings.py',\n",
       "   'struct_name': 'Settings',\n",
       "   'snippet': 'def __init__(self): \\n                            self.x = 10'}},\n",
       " {'name': 'return_type',\n",
       "  'signature': 'def return_type(self): \\n                            return self.x',\n",
       "  'code_type': 'Method',\n",
       "  'docstring': None,\n",
       "  'line': 5,\n",
       "  'line_from': 5,\n",
       "  'line_to': 6,\n",
       "  'context': {'module': 'settings',\n",
       "   'file_path': '/Users/abcom/Desktop/github/reviewturtl/reviewturtl/settings.py',\n",
       "   'file_name': 'settings.py',\n",
       "   'struct_name': 'Settings',\n",
       "   'snippet': 'def return_type(self): \\n                            return self.x'}}]"
      ]
     },
     "execution_count": 42,
     "metadata": {},
     "output_type": "execute_result"
    }
   ],
   "source": [
    "source_code = bytes(\"\"\"\n",
    "                    class Node: \n",
    "                        def __init__(self): \n",
    "                            self.x = 10 \n",
    "                        def return_type(self): \n",
    "                            return self.x\"\"\",\"utf-8\")\n",
    "python_node = python_parser.parse(source_code)\n",
    "extract_nodes(python_node, source_code)"
   ]
  },
  {
   "cell_type": "code",
   "execution_count": null,
   "metadata": {},
   "outputs": [],
   "source": []
  }
 ],
 "metadata": {
  "kernelspec": {
   "display_name": "reviewturtl",
   "language": "python",
   "name": "python3"
  },
  "language_info": {
   "codemirror_mode": {
    "name": "ipython",
    "version": 3
   },
   "file_extension": ".py",
   "mimetype": "text/x-python",
   "name": "python",
   "nbconvert_exporter": "python",
   "pygments_lexer": "ipython3",
   "version": "3.11.0"
  }
 },
 "nbformat": 4,
 "nbformat_minor": 2
}
