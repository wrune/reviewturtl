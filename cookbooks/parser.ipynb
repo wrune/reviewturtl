{
 "cells": [
  {
   "cell_type": "code",
   "execution_count": 776,
   "metadata": {},
   "outputs": [],
   "source": [
    "from tree_sitter_language_pack import get_binding, get_language, get_parser\n",
    "\n",
    "python_binding = get_binding('python')  # this is an int pointing to the C binding\n",
    "python_lang = get_language('python')  # this is an instance of tree_sitter.Language\n",
    "python_parser = get_parser('python')  # this is an instance of tree_sitter.Parser"
   ]
  },
  {
   "cell_type": "code",
   "execution_count": null,
   "metadata": {},
   "outputs": [],
   "source": []
  },
  {
   "cell_type": "code",
   "execution_count": 777,
   "metadata": {},
   "outputs": [
    {
     "data": {
      "text/plain": [
       "'module'"
      ]
     },
     "execution_count": 777,
     "metadata": {},
     "output_type": "execute_result"
    }
   ],
   "source": [
    "python_node = python_parser.parse(bytes(\"\"\"\n",
    "class Node:\n",
    "    def __init__(self):\n",
    "        self.x = 10\n",
    "    def return_type(self):\n",
    "        return self.x\n",
    "\"\"\", \"utf8\"))\n",
    "\n",
    "python_node.root_node.type"
   ]
  },
  {
   "cell_type": "code",
   "execution_count": 778,
   "metadata": {},
   "outputs": [
    {
     "name": "stdout",
     "output_type": "stream",
     "text": [
      "module\n",
      "b'class Node:\\n    def __init__(self):\\n        self.x = 10\\n    def return_type(self):\\n        return self.x\\n'\n"
     ]
    }
   ],
   "source": [
    "root_node = python_node.root_node\n",
    "print(root_node.type)\n",
    "print(root_node.text)"
   ]
  },
  {
   "cell_type": "code",
   "execution_count": 779,
   "metadata": {},
   "outputs": [
    {
     "data": {
      "text/plain": [
       "[<Node type=class_definition, start_point=(1, 0), end_point=(5, 21)>]"
      ]
     },
     "execution_count": 779,
     "metadata": {},
     "output_type": "execute_result"
    }
   ],
   "source": [
    "# get functions from root node \n",
    "root_node.children"
   ]
  },
  {
   "cell_type": "code",
   "execution_count": 780,
   "metadata": {},
   "outputs": [],
   "source": [
    "# ge"
   ]
  },
  {
   "cell_type": "code",
   "execution_count": 781,
   "metadata": {},
   "outputs": [],
   "source": [
    "javascript_binding = get_binding('javascript')  # this is an int pointing to the C binding\n",
    "javascript_lang = get_language('javascript')  # this is an instance of tree_sitter.Language\n",
    "javascript_parser = get_parser('javascript')  # this is an instance of tree_sitter.Parser"
   ]
  },
  {
   "cell_type": "code",
   "execution_count": 782,
   "metadata": {},
   "outputs": [],
   "source": [
    "js_node = javascript_parser.parse(bytes(\"\"\"\n",
    "function hello() {\n",
    "    return \"Hello, world!\";\n",
    "}\n",
    "\"\"\", \"utf8\"))"
   ]
  },
  {
   "cell_type": "code",
   "execution_count": 783,
   "metadata": {},
   "outputs": [
    {
     "data": {
      "text/plain": [
       "'program'"
      ]
     },
     "execution_count": 783,
     "metadata": {},
     "output_type": "execute_result"
    }
   ],
   "source": [
    "js_node.root_node.type"
   ]
  },
  {
   "cell_type": "code",
   "execution_count": 784,
   "metadata": {},
   "outputs": [],
   "source": [
    "from pathlib import Path\n",
    "\n",
    "def extract_nodes(tree, source_code, source_code_path):\n",
    "    allowed_node_types = [\"class_definition\", \"function_definition\"]\n",
    "\n",
    "    def get_node_text(node):\n",
    "        return source_code[node.start_byte:node.end_byte].decode('utf-8')\n",
    "\n",
    "    def get_module_name(file_path):\n",
    "        module_name = Path(file_path).stem\n",
    "        return module_name\n",
    "\n",
    "    def get_struct_name(node):\n",
    "        if node.type == 'class_definition':\n",
    "            start_byte = node.start_byte\n",
    "            end_byte = node.end_byte\n",
    "            definition = get_node_text(node)\n",
    "            class_name = definition.split()[1].split('(')[0]\n",
    "\n",
    "            return class_name\n",
    "\n",
    "        return None\n",
    "\n",
    "    def get_docstring(node):\n",
    "        def traverse(node):\n",
    "            # if the string_content node's parent's parent's is expression_statement type, we know it's docstring\n",
    "            is_expression_statement_type = node.parent and node.parent.parent and node.parent.parent.type == \"expression_statement\"\n",
    "            if is_expression_statement_type and node.type == \"string_content\":\n",
    "                return get_node_text(node)\n",
    "            \n",
    "            docstring = \"\"\n",
    "            for child in node.children:\n",
    "                child_docstring = traverse(child)\n",
    "                if child_docstring:\n",
    "                    docstring += child_docstring\n",
    "            \n",
    "            return docstring\n",
    "\n",
    "        return traverse(node)\n",
    "\n",
    "    def get_context(node):\n",
    "        file_path = Path(source_code_path).resolve()\n",
    "        file_name = Path(file_path).name\n",
    "        module = get_module_name(file_path)\n",
    "        struct_name = get_struct_name(node)\n",
    "\n",
    "        return {\n",
    "            \"module\": module,\n",
    "            \"file_path\": str(file_path),\n",
    "            \"file_name\": file_name,\n",
    "            \"struct_name\": struct_name,\n",
    "            \"snippet\": get_node_text(node)\n",
    "        }\n",
    "\n",
    "    root_node = tree.root_node\n",
    "    # class_node = None\n",
    "    results = []\n",
    "\n",
    "    # Traverse the tree to find classes and methods\n",
    "    def traverse(node):\n",
    "        # nonlocal class_node\n",
    "        # ........... need better way to resolve class methods\n",
    "\n",
    "        if node.type in allowed_node_types:\n",
    "            results.append({\n",
    "                \"name\": get_node_text(node.child_by_field_name('name')),\n",
    "                \"signature\": get_node_text(node),\n",
    "                \"code_type\": node.type,\n",
    "                \"docstring\": get_docstring(node),\n",
    "                \"line\": node.start_point[0] + 1,\n",
    "                \"line_from\": node.start_point[0] + 1,\n",
    "                \"line_to\": node.end_point[0] + 1,\n",
    "                \"context\": get_context(node),\n",
    "                \"node\": node\n",
    "            })\n",
    "\n",
    "        for child in node.children:\n",
    "            traverse(child)\n",
    "\n",
    "    traverse(root_node)\n",
    "    return results"
   ]
  },
  {
   "cell_type": "code",
   "execution_count": 785,
   "metadata": {},
   "outputs": [
    {
     "data": {
      "text/plain": [
       "[{'name': 'calculate_area',\n",
       "  'signature': 'def calculate_area(radius):\\n    \"\"\"Calculate the area of a circle given its radius.\"\"\"\\n    if radius <= 0:\\n        raise ValueError(\"Radius must be positive\")\\n    return PI * (radius ** 2)',\n",
       "  'code_type': 'function_definition',\n",
       "  'docstring': 'Calculate the area of a circle given its radius.',\n",
       "  'line': 12,\n",
       "  'line_from': 12,\n",
       "  'line_to': 16,\n",
       "  'context': {'module': 'example',\n",
       "   'file_path': '/home/devblin/desktop/project/reviewturtl/cookbooks/example.py',\n",
       "   'file_name': 'example.py',\n",
       "   'struct_name': None,\n",
       "   'snippet': 'def calculate_area(radius):\\n    \"\"\"Calculate the area of a circle given its radius.\"\"\"\\n    if radius <= 0:\\n        raise ValueError(\"Radius must be positive\")\\n    return PI * (radius ** 2)'},\n",
       "  'node': <Node type=function_definition, start_point=(11, 0), end_point=(15, 29)>},\n",
       " {'name': 'Circle',\n",
       "  'signature': 'class Circle:\\n    \"\"\"This is circle class.\"\"\"\\n\\n    def __init__(self, radius):\\n        self.radius = radius\\n\\n    def area(self):\\n        return calculate_area(self.radius)\\n\\n    def circumference(self):\\n        return 2 * PI * self.radius',\n",
       "  'code_type': 'class_definition',\n",
       "  'docstring': 'This is circle class.',\n",
       "  'line': 19,\n",
       "  'line_from': 19,\n",
       "  'line_to': 29,\n",
       "  'context': {'module': 'example',\n",
       "   'file_path': '/home/devblin/desktop/project/reviewturtl/cookbooks/example.py',\n",
       "   'file_name': 'example.py',\n",
       "   'struct_name': 'Circle:',\n",
       "   'snippet': 'class Circle:\\n    \"\"\"This is circle class.\"\"\"\\n\\n    def __init__(self, radius):\\n        self.radius = radius\\n\\n    def area(self):\\n        return calculate_area(self.radius)\\n\\n    def circumference(self):\\n        return 2 * PI * self.radius'},\n",
       "  'node': <Node type=class_definition, start_point=(18, 0), end_point=(28, 35)>},\n",
       " {'name': '__init__',\n",
       "  'signature': 'def __init__(self, radius):\\n        self.radius = radius',\n",
       "  'code_type': 'function_definition',\n",
       "  'docstring': '',\n",
       "  'line': 22,\n",
       "  'line_from': 22,\n",
       "  'line_to': 23,\n",
       "  'context': {'module': 'example',\n",
       "   'file_path': '/home/devblin/desktop/project/reviewturtl/cookbooks/example.py',\n",
       "   'file_name': 'example.py',\n",
       "   'struct_name': None,\n",
       "   'snippet': 'def __init__(self, radius):\\n        self.radius = radius'},\n",
       "  'node': <Node type=function_definition, start_point=(21, 4), end_point=(22, 28)>},\n",
       " {'name': 'area',\n",
       "  'signature': 'def area(self):\\n        return calculate_area(self.radius)',\n",
       "  'code_type': 'function_definition',\n",
       "  'docstring': '',\n",
       "  'line': 25,\n",
       "  'line_from': 25,\n",
       "  'line_to': 26,\n",
       "  'context': {'module': 'example',\n",
       "   'file_path': '/home/devblin/desktop/project/reviewturtl/cookbooks/example.py',\n",
       "   'file_name': 'example.py',\n",
       "   'struct_name': None,\n",
       "   'snippet': 'def area(self):\\n        return calculate_area(self.radius)'},\n",
       "  'node': <Node type=function_definition, start_point=(24, 4), end_point=(25, 42)>},\n",
       " {'name': 'circumference',\n",
       "  'signature': 'def circumference(self):\\n        return 2 * PI * self.radius',\n",
       "  'code_type': 'function_definition',\n",
       "  'docstring': '',\n",
       "  'line': 28,\n",
       "  'line_from': 28,\n",
       "  'line_to': 29,\n",
       "  'context': {'module': 'example',\n",
       "   'file_path': '/home/devblin/desktop/project/reviewturtl/cookbooks/example.py',\n",
       "   'file_name': 'example.py',\n",
       "   'struct_name': None,\n",
       "   'snippet': 'def circumference(self):\\n        return 2 * PI * self.radius'},\n",
       "  'node': <Node type=function_definition, start_point=(27, 4), end_point=(28, 35)>},\n",
       " {'name': 'print_circle_properties',\n",
       "  'signature': 'def print_circle_properties(circles):\\n    for circle in circles:\\n        if isinstance(circle, Circle):\\n            print(f\"Circle with radius {circle.radius}:\")\\n            print(f\" - Area: {circle.area()}\")\\n            print(f\" - Circumference: {circle.circumference()}\")\\n        else:\\n            print(\"Invalid circle object\")',\n",
       "  'code_type': 'function_definition',\n",
       "  'docstring': '',\n",
       "  'line': 32,\n",
       "  'line_from': 32,\n",
       "  'line_to': 39,\n",
       "  'context': {'module': 'example',\n",
       "   'file_path': '/home/devblin/desktop/project/reviewturtl/cookbooks/example.py',\n",
       "   'file_name': 'example.py',\n",
       "   'struct_name': None,\n",
       "   'snippet': 'def print_circle_properties(circles):\\n    for circle in circles:\\n        if isinstance(circle, Circle):\\n            print(f\"Circle with radius {circle.radius}:\")\\n            print(f\" - Area: {circle.area()}\")\\n            print(f\" - Circumference: {circle.circumference()}\")\\n        else:\\n            print(\"Invalid circle object\")'},\n",
       "  'node': <Node type=function_definition, start_point=(31, 0), end_point=(38, 42)>},\n",
       " {'name': 'generate_circles',\n",
       "  'signature': 'def generate_circles(count):\\n    return [Circle(radius) for radius in range(1, count + 1)]',\n",
       "  'code_type': 'function_definition',\n",
       "  'docstring': '',\n",
       "  'line': 42,\n",
       "  'line_from': 42,\n",
       "  'line_to': 43,\n",
       "  'context': {'module': 'example',\n",
       "   'file_path': '/home/devblin/desktop/project/reviewturtl/cookbooks/example.py',\n",
       "   'file_name': 'example.py',\n",
       "   'struct_name': None,\n",
       "   'snippet': 'def generate_circles(count):\\n    return [Circle(radius) for radius in range(1, count + 1)]'},\n",
       "  'node': <Node type=function_definition, start_point=(41, 0), end_point=(42, 61)>},\n",
       " {'name': 'safe_calculate_area',\n",
       "  'signature': 'def safe_calculate_area(radius):\\n    try:\\n        return calculate_area(radius)\\n    except ValueError as e:\\n        print(f\"Error: {e}\")',\n",
       "  'code_type': 'function_definition',\n",
       "  'docstring': '',\n",
       "  'line': 46,\n",
       "  'line_from': 46,\n",
       "  'line_to': 50,\n",
       "  'context': {'module': 'example',\n",
       "   'file_path': '/home/devblin/desktop/project/reviewturtl/cookbooks/example.py',\n",
       "   'file_name': 'example.py',\n",
       "   'struct_name': None,\n",
       "   'snippet': 'def safe_calculate_area(radius):\\n    try:\\n        return calculate_area(radius)\\n    except ValueError as e:\\n        print(f\"Error: {e}\")'},\n",
       "  'node': <Node type=function_definition, start_point=(45, 0), end_point=(49, 28)>},\n",
       " {'name': 'save_circles_to_file',\n",
       "  'signature': \"def save_circles_to_file(circles, filename):\\n    with open(filename, 'w') as f:\\n        json.dump([circle.radius for circle in circles], f)\",\n",
       "  'code_type': 'function_definition',\n",
       "  'docstring': '',\n",
       "  'line': 53,\n",
       "  'line_from': 53,\n",
       "  'line_to': 55,\n",
       "  'context': {'module': 'example',\n",
       "   'file_path': '/home/devblin/desktop/project/reviewturtl/cookbooks/example.py',\n",
       "   'file_name': 'example.py',\n",
       "   'struct_name': None,\n",
       "   'snippet': \"def save_circles_to_file(circles, filename):\\n    with open(filename, 'w') as f:\\n        json.dump([circle.radius for circle in circles], f)\"},\n",
       "  'node': <Node type=function_definition, start_point=(52, 0), end_point=(54, 59)>},\n",
       " {'name': 'load_circles_from_file',\n",
       "  'signature': \"def load_circles_from_file(filename):\\n    if os.path.exists(filename):\\n        with open(filename, 'r') as f:\\n            radii = json.load(f)\\n            return [Circle(radius) for radius in radii]\\n    return []\",\n",
       "  'code_type': 'function_definition',\n",
       "  'docstring': '',\n",
       "  'line': 57,\n",
       "  'line_from': 57,\n",
       "  'line_to': 62,\n",
       "  'context': {'module': 'example',\n",
       "   'file_path': '/home/devblin/desktop/project/reviewturtl/cookbooks/example.py',\n",
       "   'file_name': 'example.py',\n",
       "   'struct_name': None,\n",
       "   'snippet': \"def load_circles_from_file(filename):\\n    if os.path.exists(filename):\\n        with open(filename, 'r') as f:\\n            radii = json.load(f)\\n            return [Circle(radius) for radius in radii]\\n    return []\"},\n",
       "  'node': <Node type=function_definition, start_point=(56, 0), end_point=(61, 13)>}]"
      ]
     },
     "execution_count": 785,
     "metadata": {},
     "output_type": "execute_result"
    }
   ],
   "source": [
    "source_code_path = \"example.py\"\n",
    "\n",
    "with open(source_code_path, \"rb\") as file:\n",
    "    source_code = file.read()\n",
    "\n",
    "python_node = python_parser.parse(source_code)\n",
    "\n",
    "extract_nodes(python_node, source_code, source_code_path)"
   ]
  },
  {
   "cell_type": "code",
   "execution_count": null,
   "metadata": {},
   "outputs": [],
   "source": []
  }
 ],
 "metadata": {
  "kernelspec": {
   "display_name": "reviewturtl",
   "language": "python",
   "name": "python3"
  },
  "language_info": {
   "codemirror_mode": {
    "name": "ipython",
    "version": 3
   },
   "file_extension": ".py",
   "mimetype": "text/x-python",
   "name": "python",
   "nbconvert_exporter": "python",
   "pygments_lexer": "ipython3",
   "version": "3.11.5"
  }
 },
 "nbformat": 4,
 "nbformat_minor": 2
}
