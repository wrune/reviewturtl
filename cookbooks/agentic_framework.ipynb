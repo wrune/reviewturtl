{
 "cells": [
  {
   "cell_type": "code",
   "execution_count": 1,
   "metadata": {},
   "outputs": [
    {
     "name": "stderr",
     "output_type": "stream",
     "text": [
      "/Users/abcom/.pyenv/versions/3.11.0/envs/reviewturtl/lib/python3.11/site-packages/tqdm/auto.py:21: TqdmWarning: IProgress not found. Please update jupyter and ipywidgets. See https://ipywidgets.readthedocs.io/en/stable/user_install.html\n",
      "  from .autonotebook import tqdm as notebook_tqdm\n"
     ]
    },
    {
     "data": {
      "text/plain": [
       "<dsp.modules.gpt3.GPT3 at 0x17badc190>"
      ]
     },
     "execution_count": 1,
     "metadata": {},
     "output_type": "execute_result"
    }
   ],
   "source": [
    "import sys\n",
    "sys.path.append(\"/Users/abcom/Desktop/github/reviewturtl\")\n",
    "from reviewturtl.src.agents.summarizer_agent import SummarizerAgent\n",
    "from reviewturtl.src.agents.code_search_agent import CodeSearchAgent\n",
    "from dotenv import load_dotenv\n",
    "load_dotenv(dotenv_path=\"/Users/abcom/Desktop/github/reviewturtl/.env\")\n",
    "from reviewturtl.settings import initialize_dspy_with_configs\n",
    "initialize_dspy_with_configs()\n"
   ]
  },
  {
   "cell_type": "code",
   "execution_count": 2,
   "metadata": {},
   "outputs": [],
   "source": [
    "file_diff = \"\"\"\n",
    "diff --git a/reviewturtl/src/agents/summarizer_agent.py b/reviewturtl/src/agents/summarizer_agent.py\n",
    "index 83b2c9d..f3b2c9d 100644\n",
    "--- a/reviewturtl/src/agents/summarizer_agent.py\n",
    "+++ b/reviewturtl/src/agents/summarizer_agent.py\n",
    "@@ -1,6 +1,7 @@\n",
    " from reviewturtl.src.programmes.typed_cot import DspyProgramme\n",
    " from reviewturtl.src.signatures.signatures import SummarizerSignature\n",
    " from reviewturtl.src.agents.base_agent import Agent\n",
    "+import logging\n",
    " \n",
    " \n",
    " class SummarizerAgent(Agent):\n",
    "@@ -8,6 +9,8 @@ class SummarizerAgent(Agent):\n",
    " \n",
    "     def forward(self, file_diff):\n",
    "         self.prediction_object = self.programme.predictor(file_diff=file_diff)\n",
    "+        logging.info(\"Prediction object created\")\n",
    "         return self.prediction_object\n",
    " \n",
    "     def walkthrough(self):\n",
    "@@ -20,6 +23,7 @@ class SummarizerAgent(Agent):\n",
    " \n",
    "     def __call__(self, file_diff):\n",
    "         return self.forward(file_diff)\n",
    "+        logging.info(\"SummarizerAgent called with file_diff\")\n",
    " \n",
    " \n",
    " __all__ = [\"SummarizerAgent\"]\n",
    "\n",
    "\"\"\""
   ]
  },
  {
   "cell_type": "markdown",
   "metadata": {},
   "source": [
    "### Summarizer Agent Sample query"
   ]
  },
  {
   "cell_type": "code",
   "execution_count": 9,
   "metadata": {},
   "outputs": [
    {
     "name": "stderr",
     "output_type": "stream",
     "text": [
      "2024-08-17 23:02:12,105 - reviewturtl.src.agents.react_agent - INFO - Provided Agents: {'SummarizerAgent': 'A summarizer agent that summarizes the changes in a file diff.', 'CodeSearchAgent': 'A code search agent that searches for code in a repository. \\n\\n        It takes in a search query that will be used to fetch the results from a vector store and returns the top results from the vector store.\\n\\n        It also takes in a collection name that will be used to fetch the results from a specific collection in the vector store.\\n        '}\n",
      "2024-08-17 23:02:14,661 - httpx - INFO - HTTP Request: POST https://api.openai.com/v1/chat/completions \"HTTP/1.1 200 OK\"\n",
      "2024-08-17 23:02:16,676 - httpx - INFO - HTTP Request: POST https://api.openai.com/v1/chat/completions \"HTTP/1.1 200 OK\"\n",
      "2024-08-17 23:02:16,679 - reviewturtl.src.agents.react_agent - INFO - Agents to use: ['SummarizerAgent']\n",
      "2024-08-17 23:02:16,680 - reviewturtl.src.agents.react_agent - INFO - Agent Being Used With Desc: {'SummarizerAgent': 'A summarizer agent that summarizes the changes in a file diff.'}\n",
      "2024-08-17 23:02:16,680 - reviewturtl.src.agents.react_agent - INFO - Args to find: ['file_diff']\n",
      "2024-08-17 23:02:21,792 - httpx - INFO - HTTP Request: POST https://api.openai.com/v1/chat/completions \"HTTP/1.1 200 OK\"\n",
      "2024-08-17 23:02:26,194 - httpx - INFO - HTTP Request: POST https://api.openai.com/v1/chat/completions \"HTTP/1.1 200 OK\"\n",
      "2024-08-17 23:02:31,727 - httpx - INFO - HTTP Request: POST https://api.openai.com/v1/chat/completions \"HTTP/1.1 200 OK\"\n",
      "2024-08-17 23:02:31,733 - reviewturtl.src.agents.react_agent - INFO - Agent Caller: {'SummarizerAgent': {'file_diff': '\\ndiff --git a/reviewturtl/src/agents/summarizer_agent.py b/reviewturtl/src/agents/summarizer_agent.py\\nindex 83b2c9d..f3b2c9d 100644\\n--- a/reviewturtl/src/agents/summarizer_agent.py\\n+++ b/reviewturtl/src/agents/summarizer_agent.py\\n@@ -1,6 +1,7 @@\\n from reviewturtl.src.programmes.typed_cot import DspyProgramme\\n from reviewturtl.src.signatures.signatures import SummarizerSignature\\n from reviewturtl.src.agents.base_agent import Agent\\n+import logging\\n \\n \\n class SummarizerAgent(Agent):\\n@@ -8,6 +9,8 @@ class SummarizerAgent(Agent):\\n \\n     def forward(self, file_diff):\\n         self.prediction_object = self.programme.predictor(file_diff=file_diff)\\n+        logging.info(\"Prediction object created\")\\n         return self.prediction_object\\n \\n     def walkthrough(self):\\n@@ -20,6 +23,7 @@ class SummarizerAgent(Agent):\\n \\n     def __call__(self, file_diff):\\n         return self.forward(file_diff)\\n+        logging.info(\"SummarizerAgent called with file_diff\")\\n \\n \\n __all__ = [\"SummarizerAgent\"]\\n\\n'}}\n",
      "2024-08-17 23:02:31,734 - reviewturtl.src.agents.react_agent - INFO - Args for agent: {'file_diff': '\\ndiff --git a/reviewturtl/src/agents/summarizer_agent.py b/reviewturtl/src/agents/summarizer_agent.py\\nindex 83b2c9d..f3b2c9d 100644\\n--- a/reviewturtl/src/agents/summarizer_agent.py\\n+++ b/reviewturtl/src/agents/summarizer_agent.py\\n@@ -1,6 +1,7 @@\\n from reviewturtl.src.programmes.typed_cot import DspyProgramme\\n from reviewturtl.src.signatures.signatures import SummarizerSignature\\n from reviewturtl.src.agents.base_agent import Agent\\n+import logging\\n \\n \\n class SummarizerAgent(Agent):\\n@@ -8,6 +9,8 @@ class SummarizerAgent(Agent):\\n \\n     def forward(self, file_diff):\\n         self.prediction_object = self.programme.predictor(file_diff=file_diff)\\n+        logging.info(\"Prediction object created\")\\n         return self.prediction_object\\n \\n     def walkthrough(self):\\n@@ -20,6 +23,7 @@ class SummarizerAgent(Agent):\\n \\n     def __call__(self, file_diff):\\n         return self.forward(file_diff)\\n+        logging.info(\"SummarizerAgent called with file_diff\")\\n \\n \\n __all__ = [\"SummarizerAgent\"]\\n\\n'}\n",
      "2024-08-17 23:02:34,371 - httpx - INFO - HTTP Request: POST https://api.openai.com/v1/chat/completions \"HTTP/1.1 200 OK\"\n"
     ]
    },
    {
     "name": "stdout",
     "output_type": "stream",
     "text": [
      "### Summary of Changes in the PR\n",
      "\n",
      "**Walkthrough:**\n",
      "- Logging functionality has been added to the `SummarizerAgent` class to provide information when certain methods are called.\n",
      "\n",
      "**Changes in Tabular Description:**\n",
      "\n",
      "| File Name | Changes |\n",
      "| --------- | -------- |\n",
      "| reviewturtl/src/agents/summarizer_agent.py | Added logging statements to track the creation of the prediction object and the invocation of the `SummarizerAgent` with `file_diff`. |\n"
     ]
    }
   ],
   "source": [
    "from reviewturtl.src.agents.react_agent import ReactAgent\n",
    "ragent = ReactAgent()\n",
    "query = \"please summarize the changes in this PR\"\n",
    "context = {\"file_diff\":file_diff,\"collection_name\":\"code_search\",\"query\":query,\"conversation_history\":\"\"}\n",
    "answer = ragent(conversation_history=\"\", query=query, context=context)\n",
    "print(answer)"
   ]
  },
  {
   "cell_type": "markdown",
   "metadata": {},
   "source": [
    "### Code Search Agent Sample query"
   ]
  },
  {
   "cell_type": "code",
   "execution_count": 10,
   "metadata": {},
   "outputs": [
    {
     "name": "stderr",
     "output_type": "stream",
     "text": [
      "2024-08-17 23:02:39,501 - reviewturtl.src.agents.react_agent - INFO - Provided Agents: {'SummarizerAgent': 'A summarizer agent that summarizes the changes in a file diff.', 'CodeSearchAgent': 'A code search agent that searches for code in a repository. \\n\\n        It takes in a search query that will be used to fetch the results from a vector store and returns the top results from the vector store.\\n\\n        It also takes in a collection name that will be used to fetch the results from a specific collection in the vector store.\\n        '}\n",
      "2024-08-17 23:02:39,513 - reviewturtl.src.agents.react_agent - INFO - Agents to use: ['CodeSearchAgent']\n",
      "2024-08-17 23:02:39,513 - reviewturtl.src.agents.react_agent - INFO - Agent Being Used With Desc: {'CodeSearchAgent': 'A code search agent that searches for code in a repository. \\n\\n        It takes in a search query that will be used to fetch the results from a vector store and returns the top results from the vector store.\\n\\n        It also takes in a collection name that will be used to fetch the results from a specific collection in the vector store.\\n        '}\n",
      "2024-08-17 23:02:39,513 - reviewturtl.src.agents.react_agent - INFO - Args to find: ['search_query', 'collection_name']\n",
      "2024-08-17 23:02:39,519 - reviewturtl.src.agents.react_agent - INFO - Agent Caller: {'CodeSearchAgent': {'search_query': 'How to implement health endpoint for the api', 'collection_name': 'code_search'}}\n",
      "2024-08-17 23:02:39,520 - reviewturtl.src.agents.react_agent - INFO - Args for agent: {'search_query': 'How to implement health endpoint for the api', 'collection_name': 'code_search'}\n",
      "Batches: 100%|██████████| 1/1 [00:00<00:00,  2.24it/s]\n",
      "2024-08-17 23:02:40,030 - httpx - INFO - HTTP Request: POST http://localhost:6333/collections/code_search/points/query \"HTTP/1.1 200 OK\"\n"
     ]
    },
    {
     "name": "stdout",
     "output_type": "stream",
     "text": [
      "To implement a health endpoint for the API, you can define an asynchronous function that returns a JSON object with the health status, application name, and environment. Below is an example implementation based on the provided context:\n",
      "\n",
      "```python\n",
      "# File: /Users/abcom/Desktop/github/reviewturtl/reviewturtl/api/api.py\n",
      "\n",
      "from fastapi import FastAPI\n",
      "import cfg  # Assuming cfg is a module that contains APP_NAME and ENVIRONMENT\n",
      "\n",
      "app = FastAPI()\n",
      "\n",
      "@app.get(\"/health\")\n",
      "async def health():\n",
      "    \"\"\"\n",
      "    Health check endpoint to verify the status of the API.\n",
      "    \"\"\"\n",
      "    return {\n",
      "        \"status\": \"OK\",\n",
      "        \"app_name\": cfg.APP_NAME,\n",
      "        \"environment\": cfg.ENVIRONMENT,\n",
      "    }\n",
      "```\n",
      "\n",
      "In this implementation:\n",
      "1. We import `FastAPI` to create an instance of the FastAPI application.\n",
      "2. We define the `health` function as an asynchronous function using `async def`.\n",
      "3. The function returns a dictionary with keys `status`, `app_name`, and `environment`, which are populated with values from the `cfg` module.\n",
      "\n",
      "This setup will create a health endpoint at `/health` that can be accessed to check the status of the API.\n",
      "\n",
      "References:\n",
      "- File: `/Users/abcom/Desktop/github/reviewturtl/reviewturtl/api/api.py`\n"
     ]
    }
   ],
   "source": [
    "query = \"How to implement health endpoint for the api\"\n",
    "context = {\"file_diff\":file_diff,\"collection_name\":\"code_search\",\"query\":query,\"conversation_history\":\"\"}\n",
    "answer = ragent(conversation_history=\"\", query=query, context=context)\n",
    "print(answer)"
   ]
  },
  {
   "cell_type": "code",
   "execution_count": null,
   "metadata": {},
   "outputs": [],
   "source": []
  }
 ],
 "metadata": {
  "kernelspec": {
   "display_name": "reviewturtl",
   "language": "python",
   "name": "python3"
  },
  "language_info": {
   "codemirror_mode": {
    "name": "ipython",
    "version": 3
   },
   "file_extension": ".py",
   "mimetype": "text/x-python",
   "name": "python",
   "nbconvert_exporter": "python",
   "pygments_lexer": "ipython3",
   "version": "3.11.0"
  }
 },
 "nbformat": 4,
 "nbformat_minor": 2
}
