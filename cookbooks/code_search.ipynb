{
 "cells": [
  {
   "cell_type": "code",
   "execution_count": 2,
   "metadata": {},
   "outputs": [
    {
     "ename": "ModuleNotFoundError",
     "evalue": "No module named 'reviewturtl.src.code_search.indexer'",
     "output_type": "error",
     "traceback": [
      "\u001b[0;31m---------------------------------------------------------------------------\u001b[0m",
      "\u001b[0;31mModuleNotFoundError\u001b[0m                       Traceback (most recent call last)",
      "Cell \u001b[0;32mIn[2], line 3\u001b[0m\n\u001b[1;32m      1\u001b[0m \u001b[38;5;28;01mimport\u001b[39;00m \u001b[38;5;21;01msys\u001b[39;00m \n\u001b[1;32m      2\u001b[0m sys\u001b[38;5;241m.\u001b[39mpath\u001b[38;5;241m.\u001b[39mappend(\u001b[38;5;124m\"\u001b[39m\u001b[38;5;124m/Users/gagan/Desktop/github/reviewturtl\u001b[39m\u001b[38;5;124m\"\u001b[39m)\n\u001b[0;32m----> 3\u001b[0m \u001b[38;5;28;01mfrom\u001b[39;00m \u001b[38;5;21;01mreviewturtl\u001b[39;00m\u001b[38;5;21;01m.\u001b[39;00m\u001b[38;5;21;01msrc\u001b[39;00m\u001b[38;5;21;01m.\u001b[39;00m\u001b[38;5;21;01mcode_search\u001b[39;00m\u001b[38;5;21;01m.\u001b[39;00m\u001b[38;5;21;01mindexer\u001b[39;00m \u001b[38;5;28;01mimport\u001b[39;00m TurtlIndexer\n",
      "\u001b[0;31mModuleNotFoundError\u001b[0m: No module named 'reviewturtl.src.code_search.indexer'"
     ]
    }
   ],
   "source": [
    "import sys \n",
    "sys.path.append(\"/Users/gagan/Desktop/github/reviewturtl\")\n",
    "from reviewturtl.src.code_search.indexer import TurtlIndexer"
   ]
  },
  {
   "cell_type": "code",
   "execution_count": 3,
   "metadata": {},
   "outputs": [
    {
     "name": "stderr",
     "output_type": "stream",
     "text": [
      "/Users/gagan/.pyenv/versions/3.11.9/envs/reviewturtl/lib/python3.11/site-packages/tqdm/auto.py:21: TqdmWarning: IProgress not found. Please update jupyter and ipywidgets. See https://ipywidgets.readthedocs.io/en/stable/user_install.html\n",
      "  from .autonotebook import tqdm as notebook_tqdm\n"
     ]
    }
   ],
   "source": [
    "from qdrant_client import QdrantClient\n",
    "\n",
    "qdrant_client = QdrantClient(url=\"http://localhost:6343\")"
   ]
  },
  {
   "cell_type": "code",
   "execution_count": 4,
   "metadata": {},
   "outputs": [
    {
     "ename": "NameError",
     "evalue": "name 'TurtlIndexer' is not defined",
     "output_type": "error",
     "traceback": [
      "\u001b[0;31m---------------------------------------------------------------------------\u001b[0m",
      "\u001b[0;31mNameError\u001b[0m                                 Traceback (most recent call last)",
      "Cell \u001b[0;32mIn[4], line 1\u001b[0m\n\u001b[0;32m----> 1\u001b[0m indexer \u001b[38;5;241m=\u001b[39m \u001b[43mTurtlIndexer\u001b[49m(methods_dump_path\u001b[38;5;241m=\u001b[39m\u001b[38;5;124m\"\u001b[39m\u001b[38;5;124m/Users/gagan/Desktop/reviewturtl/scripts/methods/methods.json\u001b[39m\u001b[38;5;124m\"\u001b[39m,qdrant_client\u001b[38;5;241m=\u001b[39mqdrant_client)\n",
      "\u001b[0;31mNameError\u001b[0m: name 'TurtlIndexer' is not defined"
     ]
    }
   ],
   "source": [
    "indexer = TurtlIndexer(methods_dump_path=\"/Users/gagan/Desktop/reviewturtl/scripts/methods/methods.json\",qdrant_client=qdrant_client)"
   ]
  },
  {
   "cell_type": "code",
   "execution_count": 8,
   "metadata": {},
   "outputs": [
    {
     "data": {
      "text/plain": [
       "True"
      ]
     },
     "execution_count": 8,
     "metadata": {},
     "output_type": "execute_result"
    }
   ],
   "source": [
    "indexer.index(collection_name=\"code_search\")"
   ]
  },
  {
   "cell_type": "code",
   "execution_count": 9,
   "metadata": {},
   "outputs": [
    {
     "name": "stderr",
     "output_type": "stream",
     "text": [
      "Fetching 5 files: 100%|██████████| 5/5 [00:00<00:00, 84904.94it/s]\n"
     ]
    }
   ],
   "source": [
    "from reviewturtl.src.code_search.search import TurtlSearch\n",
    "\n",
    "search = TurtlSearch(qdrant_client=qdrant_client,search_settings={\"limit\":5})\n",
    "results = search.search(query=\"how to implement health endpoint?\",collection_name=\"code_search\")"
   ]
  },
  {
   "cell_type": "code",
   "execution_count": 10,
   "metadata": {},
   "outputs": [
    {
     "data": {
      "text/plain": [
       "ScoredPoint(id='93a86304-41a6-482b-849f-cf0489e52c5e', version=0, score=1.0, payload={'name': 'health', 'signature': 'async def health() -> None', 'code_type': 'Function', 'docstring': None, 'line': 12, 'line_from': 12, 'line_to': 17, 'context': {'module': 'api.api', 'file_path': '/Users/abcom/Desktop/github/reviewturtl/reviewturtl/api/api.py', 'file_name': 'api.py', 'struct_name': 'unknown', 'snippet': 'async def health():\\n    return {\\n        \"status\": \"OK\",\\n        \"app_name\": cfg.APP_NAME,\\n        \"environment\": cfg.ENVIRONMENT,\\n    }'}}, vector=None, shard_key=None, order_value=None)"
      ]
     },
     "execution_count": 10,
     "metadata": {},
     "output_type": "execute_result"
    }
   ],
   "source": [
    "results.points[0]"
   ]
  },
  {
   "cell_type": "code",
   "execution_count": 20,
   "metadata": {},
   "outputs": [],
   "source": [
    "from openai import OpenAI\n",
    "from reviewturtl.settings import Settings\n",
    "api_key = Settings().OPENAI_API_KEY"
   ]
  },
  {
   "cell_type": "code",
   "execution_count": 21,
   "metadata": {},
   "outputs": [],
   "source": [
    "client = OpenAI(\n",
    "    # This is the default and can be omitted\n",
    "    api_key=api_key\n",
    ")"
   ]
  },
  {
   "cell_type": "code",
   "execution_count": 27,
   "metadata": {},
   "outputs": [
    {
     "name": "stdout",
     "output_type": "stream",
     "text": [
      "To create a new signature for summarizing data using the `dspy.Signature` class, you need to follow a structure similar to the given `SummarizerSignature` class. This will involve defining input and output fields, and writing a description that explains how the signature should be used.\n",
      "\n",
      "Here’s a step-by-step guide to creating a new signature:\n",
      "\n",
      "1. **Define the Class**: Start by creating a class that inherits from `dspy.Signature`.\n",
      "2. **Provide a Docstring**: Write a detailed docstring that explains the purpose of the signature and gives specific instructions.\n",
      "3. **Define Input and Output Fields**: Use `dspy.InputField` and `dspy.OutputField` to declare the necessary input and output fields.\n",
      "\n",
      "Below is a template example for creating a new signature, which we’ll call `DataSummarizerSignature`:\n",
      "\n",
      "```python\n",
      "# Assuming you have already imported dspy\n",
      "import dspy\n",
      "\n",
      "class DataSummarizerSignature(dspy.Signature):\n",
      "    \"\"\"\n",
      "    This signature is used to summarize data changes in a meaningful and concise manner.\n",
      "    \n",
      "    Specific Instructions:\n",
      "    \n",
      "        - The summary should be clear and informative.\n",
      "        - Include an overall summary of the changes.\n",
      "        - Provide a detailed summary for changes in individual files in a tabular format (Markdown).\n",
      "        - Avoid mentioning specific line numbers in the summary.\n",
      "\n",
      "    Example:\n",
      "    \n",
      "    summary_overview:\n",
      "    \n",
      "    Several methods for data processing have been optimized for performance.\n",
      "    \n",
      "    detailed_summary:\n",
      "    \n",
      "    | File Name   | Changes                                              |\n",
      "    | ----------- | ---------------------------------------------------- |\n",
      "    | data_model.py | Optimized data loading and parsing methods.        |\n",
      "    | utils.py     | Refactored utility functions for better readability.|\n",
      "    \"\"\"\n",
      "    \n",
      "    data_changes: str = dspy.InputField(\n",
      "        desc=\"The diff or description of the data changes\",\n",
      "    )\n",
      "    summary_overview: str = dspy.OutputField(\n",
      "        desc=\"A brief overview of the changes\",\n",
      "    )\n",
      "    detailed_summary: str = dspy.OutputField(\n",
      "        desc=\"A detailed summary of the changes in tabular format\",\n",
      "    )\n",
      "\n",
      "    def summarize_changes(self, data_changes: str) -> None:\n",
      "        # Implement logic to parse data_changes and populate summary_overview and detailed_summary.\n",
      "        # This is a placeholder implementation and should be replaced with actual logic.\n",
      "        self.summary_overview = \"Overview of the changes.\"\n",
      "        self.detailed_summary = \"| File Name | Changes |\\\\n| --------- | -------- |\\\\n| example.py | Example change description |\"\n",
      "```\n",
      "\n",
      "### Steps to Implement:\n",
      "1. **Define the Class Name**: Give your new signature class a unique name that clearly describes its purpose.\n",
      "2. **Write the Docstring**: Explain the signature’s purpose, instructions for use, and provide an example.\n",
      "3. **Declare Fields**: Define the input and output fields required for your signature.\n",
      "4. **Implement the Logic**: (Optional step) You can add a method to handle the logic of summarizing the changes, which sets the `summary_overview` and `detailed_summary` fields.\n",
      "\n",
      "### Usage:\n",
      "To use this signature, you would instantiate it and provide the necessary input, then call any method (e.g., `summarize_changes()` if implemented):\n",
      "\n",
      "```python\n",
      "# Example of using the new signature\n",
      "data_changes = \"\"\"Your data change diff or description here\"\"\"\n",
      "signature = DataSummarizerSignature()\n",
      "signature.data_changes = data_changes\n",
      "signature.summarize_changes(data_changes)\n",
      "\n",
      "print(signature.summary_overview)\n",
      "print(signature.detailed_summary)\n",
      "```\n",
      "\n",
      "This is a simplified example. Depending on your specific requirements, you might need to implement more complex parsing and summarization logic within your class.\n"
     ]
    }
   ],
   "source": [
    "# call chat completion api from openai\n",
    "question = \"i want to create a new signature using dspy for summarizing data , how to do that?\"\n",
    "\n",
    "## Qdrant\n",
    "results = search.search(query=question,collection_name=\"code_search\")\n",
    "context = results.points[0].payload\n",
    "\n",
    "### LLM Call\n",
    "response = client.chat.completions.create(\n",
    "    model=\"gpt-4o\",\n",
    "    messages=[{\"role\": \"system\", \"content\": \"You are a helpful assistant.\"}, \n",
    "              {\"role\": \"user\", \"content\":f\"{question} your context is {context}\"}]\n",
    ")\n",
    "print(response.choices[0].message.content)"
   ]
  },
  {
   "cell_type": "code",
   "execution_count": null,
   "metadata": {},
   "outputs": [],
   "source": [
    "### RANKX Library \n"
   ]
  }
 ],
 "metadata": {
  "kernelspec": {
   "display_name": "reviewturtl",
   "language": "python",
   "name": "python3"
  },
  "language_info": {
   "codemirror_mode": {
    "name": "ipython",
    "version": 3
   },
   "file_extension": ".py",
   "mimetype": "text/x-python",
   "name": "python",
   "nbconvert_exporter": "python",
   "pygments_lexer": "ipython3",
   "version": "3.11.9"
  }
 },
 "nbformat": 4,
 "nbformat_minor": 2
}
