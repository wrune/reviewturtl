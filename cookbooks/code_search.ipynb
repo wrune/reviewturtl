{
 "cells": [
  {
   "cell_type": "code",
   "execution_count": 1,
   "metadata": {},
   "outputs": [
    {
     "name": "stderr",
     "output_type": "stream",
     "text": [
      "/Users/abcom/.pyenv/versions/3.11.0/envs/reviewturtl/lib/python3.11/site-packages/tqdm/auto.py:21: TqdmWarning: IProgress not found. Please update jupyter and ipywidgets. See https://ipywidgets.readthedocs.io/en/stable/user_install.html\n",
      "  from .autonotebook import tqdm as notebook_tqdm\n"
     ]
    }
   ],
   "source": [
    "import sys \n",
    "sys.path.append(\"/Users/abcom/Desktop/github/reviewturtl\")\n",
    "from reviewturtl.src.code_search.indexer import TurtlIndexer"
   ]
  },
  {
   "cell_type": "code",
   "execution_count": 2,
   "metadata": {},
   "outputs": [],
   "source": [
    "from qdrant_client import QdrantClient\n",
    "\n",
    "qdrant_client = QdrantClient(url=\"http://localhost:6333\")"
   ]
  },
  {
   "cell_type": "code",
   "execution_count": 3,
   "metadata": {},
   "outputs": [
    {
     "name": "stderr",
     "output_type": "stream",
     "text": [
      "Fetching 5 files: 100%|██████████| 5/5 [00:00<00:00, 69672.82it/s]\n",
      "/Users/abcom/.cache/huggingface/modules/transformers_modules/jinaai/jina-bert-v2-qk-post-norm/3baf9e3ac750e76e8edd3019170176884695fb94/configuration_bert.py:29: UserWarning: optimum is not installed. To use OnnxConfig and BertOnnxConfig, make sure that `optimum` package is installed\n",
      "  warnings.warn(\"optimum is not installed. To use OnnxConfig and BertOnnxConfig, make sure that `optimum` package is installed\")\n"
     ]
    }
   ],
   "source": [
    "indexer = TurtlIndexer(methods_dump_path=\"/Users/abcom/Desktop/github/reviewturtl/scripts/methods/methods.json\",qdrant_client=qdrant_client)"
   ]
  },
  {
   "cell_type": "code",
   "execution_count": 4,
   "metadata": {},
   "outputs": [
    {
     "data": {
      "text/plain": [
       "True"
      ]
     },
     "execution_count": 4,
     "metadata": {},
     "output_type": "execute_result"
    }
   ],
   "source": [
    "indexer.index(collection_name=\"code_search\")"
   ]
  },
  {
   "cell_type": "code",
   "execution_count": 5,
   "metadata": {},
   "outputs": [
    {
     "name": "stderr",
     "output_type": "stream",
     "text": [
      "Fetching 5 files: 100%|██████████| 5/5 [00:00<00:00, 91180.52it/s]\n"
     ]
    }
   ],
   "source": [
    "from reviewturtl.src.code_search.search import TurtlSearch\n",
    "\n",
    "search = TurtlSearch(qdrant_client=qdrant_client,search_settings={\"limit\":5})\n",
    "results = search.search(query=\"how to implement health endpoint?\",collection_name=\"code_search\")"
   ]
  },
  {
   "cell_type": "code",
   "execution_count": 9,
   "metadata": {},
   "outputs": [
    {
     "data": {
      "text/plain": [
       "{'code_type': 'Function',\n",
       " 'context': {'file_name': 'api.py',\n",
       "  'file_path': '/Users/abcom/Desktop/github/reviewturtl/reviewturtl/api/api.py',\n",
       "  'module': 'api.api',\n",
       "  'snippet': 'async def health():\\n    return {\\n        \"status\": \"OK\",\\n        \"app_name\": cfg.APP_NAME,\\n        \"environment\": cfg.ENVIRONMENT,\\n    }',\n",
       "  'struct_name': 'unknown'},\n",
       " 'docstring': None,\n",
       " 'line': 12,\n",
       " 'line_from': 12,\n",
       " 'line_to': 17,\n",
       " 'name': 'health',\n",
       " 'signature': 'async def health() -> None'}"
      ]
     },
     "execution_count": 9,
     "metadata": {},
     "output_type": "execute_result"
    }
   ],
   "source": [
    "results.points[0]"
   ]
  },
  {
   "cell_type": "code",
   "execution_count": 20,
   "metadata": {},
   "outputs": [],
   "source": [
    "from openai import OpenAI\n",
    "from reviewturtl.settings import Settings\n",
    "api_key = Settings().OPENAI_API_KEY"
   ]
  },
  {
   "cell_type": "code",
   "execution_count": 21,
   "metadata": {},
   "outputs": [],
   "source": [
    "client = OpenAI(\n",
    "    # This is the default and can be omitted\n",
    "    api_key=api_key\n",
    ")"
   ]
  },
  {
   "cell_type": "code",
   "execution_count": 27,
   "metadata": {},
   "outputs": [
    {
     "name": "stdout",
     "output_type": "stream",
     "text": [
      "To create a new signature for summarizing data using the `dspy.Signature` class, you need to follow a structure similar to the given `SummarizerSignature` class. This will involve defining input and output fields, and writing a description that explains how the signature should be used.\n",
      "\n",
      "Here’s a step-by-step guide to creating a new signature:\n",
      "\n",
      "1. **Define the Class**: Start by creating a class that inherits from `dspy.Signature`.\n",
      "2. **Provide a Docstring**: Write a detailed docstring that explains the purpose of the signature and gives specific instructions.\n",
      "3. **Define Input and Output Fields**: Use `dspy.InputField` and `dspy.OutputField` to declare the necessary input and output fields.\n",
      "\n",
      "Below is a template example for creating a new signature, which we’ll call `DataSummarizerSignature`:\n",
      "\n",
      "```python\n",
      "# Assuming you have already imported dspy\n",
      "import dspy\n",
      "\n",
      "class DataSummarizerSignature(dspy.Signature):\n",
      "    \"\"\"\n",
      "    This signature is used to summarize data changes in a meaningful and concise manner.\n",
      "    \n",
      "    Specific Instructions:\n",
      "    \n",
      "        - The summary should be clear and informative.\n",
      "        - Include an overall summary of the changes.\n",
      "        - Provide a detailed summary for changes in individual files in a tabular format (Markdown).\n",
      "        - Avoid mentioning specific line numbers in the summary.\n",
      "\n",
      "    Example:\n",
      "    \n",
      "    summary_overview:\n",
      "    \n",
      "    Several methods for data processing have been optimized for performance.\n",
      "    \n",
      "    detailed_summary:\n",
      "    \n",
      "    | File Name   | Changes                                              |\n",
      "    | ----------- | ---------------------------------------------------- |\n",
      "    | data_model.py | Optimized data loading and parsing methods.        |\n",
      "    | utils.py     | Refactored utility functions for better readability.|\n",
      "    \"\"\"\n",
      "    \n",
      "    data_changes: str = dspy.InputField(\n",
      "        desc=\"The diff or description of the data changes\",\n",
      "    )\n",
      "    summary_overview: str = dspy.OutputField(\n",
      "        desc=\"A brief overview of the changes\",\n",
      "    )\n",
      "    detailed_summary: str = dspy.OutputField(\n",
      "        desc=\"A detailed summary of the changes in tabular format\",\n",
      "    )\n",
      "\n",
      "    def summarize_changes(self, data_changes: str) -> None:\n",
      "        # Implement logic to parse data_changes and populate summary_overview and detailed_summary.\n",
      "        # This is a placeholder implementation and should be replaced with actual logic.\n",
      "        self.summary_overview = \"Overview of the changes.\"\n",
      "        self.detailed_summary = \"| File Name | Changes |\\\\n| --------- | -------- |\\\\n| example.py | Example change description |\"\n",
      "```\n",
      "\n",
      "### Steps to Implement:\n",
      "1. **Define the Class Name**: Give your new signature class a unique name that clearly describes its purpose.\n",
      "2. **Write the Docstring**: Explain the signature’s purpose, instructions for use, and provide an example.\n",
      "3. **Declare Fields**: Define the input and output fields required for your signature.\n",
      "4. **Implement the Logic**: (Optional step) You can add a method to handle the logic of summarizing the changes, which sets the `summary_overview` and `detailed_summary` fields.\n",
      "\n",
      "### Usage:\n",
      "To use this signature, you would instantiate it and provide the necessary input, then call any method (e.g., `summarize_changes()` if implemented):\n",
      "\n",
      "```python\n",
      "# Example of using the new signature\n",
      "data_changes = \"\"\"Your data change diff or description here\"\"\"\n",
      "signature = DataSummarizerSignature()\n",
      "signature.data_changes = data_changes\n",
      "signature.summarize_changes(data_changes)\n",
      "\n",
      "print(signature.summary_overview)\n",
      "print(signature.detailed_summary)\n",
      "```\n",
      "\n",
      "This is a simplified example. Depending on your specific requirements, you might need to implement more complex parsing and summarization logic within your class.\n"
     ]
    }
   ],
   "source": [
    "# call chat completion api from openai\n",
    "question = \"i want to create a new signature using dspy for summarizing data , how to do that?\"\n",
    "\n",
    "## Qdrant\n",
    "results = search.search(query=question,collection_name=\"code_search\")\n",
    "context = results.points[0].payload\n",
    "\n",
    "### LLM Call\n",
    "response = client.chat.completions.create(\n",
    "    model=\"gpt-4o\",\n",
    "    messages=[{\"role\": \"system\", \"content\": \"You are a helpful assistant.\"}, \n",
    "              {\"role\": \"user\", \"content\":f\"{question} your context is {context}\"}]\n",
    ")\n",
    "print(response.choices[0].message.content)"
   ]
  },
  {
   "cell_type": "code",
   "execution_count": null,
   "metadata": {},
   "outputs": [],
   "source": [
    "### RANKX Library \n"
   ]
  }
 ],
 "metadata": {
  "kernelspec": {
   "display_name": "reviewturtl",
   "language": "python",
   "name": "python3"
  },
  "language_info": {
   "codemirror_mode": {
    "name": "ipython",
    "version": 3
   },
   "file_extension": ".py",
   "mimetype": "text/x-python",
   "name": "python",
   "nbconvert_exporter": "python",
   "pygments_lexer": "ipython3",
   "version": "3.11.0"
  }
 },
 "nbformat": 4,
 "nbformat_minor": 2
}
