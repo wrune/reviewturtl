{
 "cells": [
  {
   "cell_type": "code",
   "execution_count": 1,
   "metadata": {},
   "outputs": [
    {
     "name": "stderr",
     "output_type": "stream",
     "text": [
      "/Users/abcom/.pyenv/versions/3.11.0/envs/reviewturtl/lib/python3.11/site-packages/tqdm/auto.py:21: TqdmWarning: IProgress not found. Please update jupyter and ipywidgets. See https://ipywidgets.readthedocs.io/en/stable/user_install.html\n",
      "  from .autonotebook import tqdm as notebook_tqdm\n"
     ]
    }
   ],
   "source": [
    "import sys \n",
    "sys.path.append(\"/Users/abcom/Desktop/github/reviewturtl\")\n",
    "from reviewturtl.src.code_search.indexer import TurtlIndexer"
   ]
  },
  {
   "cell_type": "code",
   "execution_count": 2,
   "metadata": {},
   "outputs": [],
   "source": [
    "from qdrant_client import QdrantClient\n",
    "\n",
    "qdrant_client = QdrantClient(url=\"http://localhost:6333\")"
   ]
  },
  {
   "cell_type": "code",
   "execution_count": 3,
   "metadata": {},
   "outputs": [
    {
     "name": "stderr",
     "output_type": "stream",
     "text": [
      "Fetching 5 files: 100%|██████████| 5/5 [00:00<00:00, 76818.75it/s]\n",
      "/Users/abcom/.cache/huggingface/modules/transformers_modules/jinaai/jina-bert-v2-qk-post-norm/3baf9e3ac750e76e8edd3019170176884695fb94/configuration_bert.py:29: UserWarning: optimum is not installed. To use OnnxConfig and BertOnnxConfig, make sure that `optimum` package is installed\n",
      "  warnings.warn(\"optimum is not installed. To use OnnxConfig and BertOnnxConfig, make sure that `optimum` package is installed\")\n"
     ]
    }
   ],
   "source": [
    "indexer = TurtlIndexer(methods_dump_path=\"/Users/abcom/Desktop/github/reviewturtl/scripts/methods/methods.json\",qdrant_client=qdrant_client)"
   ]
  },
  {
   "cell_type": "code",
   "execution_count": 4,
   "metadata": {},
   "outputs": [
    {
     "data": {
      "text/plain": [
       "True"
      ]
     },
     "execution_count": 4,
     "metadata": {},
     "output_type": "execute_result"
    }
   ],
   "source": [
    "indexer.index(collection_name=\"code_search\")"
   ]
  },
  {
   "cell_type": "code",
   "execution_count": 4,
   "metadata": {},
   "outputs": [
    {
     "name": "stderr",
     "output_type": "stream",
     "text": [
      "Fetching 5 files: 100%|██████████| 5/5 [00:00<00:00, 41040.16it/s]\n",
      "/Users/abcom/.cache/huggingface/modules/transformers_modules/jinaai/jina-bert-v2-qk-post-norm/3baf9e3ac750e76e8edd3019170176884695fb94/configuration_bert.py:29: UserWarning: optimum is not installed. To use OnnxConfig and BertOnnxConfig, make sure that `optimum` package is installed\n",
      "  warnings.warn(\"optimum is not installed. To use OnnxConfig and BertOnnxConfig, make sure that `optimum` package is installed\")\n"
     ]
    }
   ],
   "source": [
    "from reviewturtl.src.code_search.search import TurtlSearch\n",
    "\n",
    "search = TurtlSearch(qdrant_client=qdrant_client,search_settings={\"limit\":5})\n",
    "results = search.search(query=\"health endpoint\",collection_name=\"code_search\")"
   ]
  },
  {
   "cell_type": "code",
   "execution_count": 8,
   "metadata": {},
   "outputs": [],
   "source": [
    "# flatten the results and rank by score, remove duplicates and keep the one with the highest score\n",
    "flattened_results = [item for sublist in results for item in sublist]\n",
    "ranked_results = sorted(flattened_results, key=lambda x: x.score, reverse=True)\n",
    "unique_results = {}\n",
    "for result in ranked_results:\n",
    "    if result.id not in unique_results:\n",
    "        unique_results[result.id] = result\n",
    "ranked_results = list(unique_results.values())"
   ]
  },
  {
   "cell_type": "code",
   "execution_count": 9,
   "metadata": {},
   "outputs": [
    {
     "data": {
      "text/plain": [
       "[ScoredPoint(id='0239775b-f1e1-457b-b48c-0589daf5f498', version=0, score=0.70741785, payload={'code_type': 'Function', 'context': {'file_name': 'api.py', 'file_path': '/Users/abcom/Desktop/github/reviewturtl/reviewturtl/api/api.py', 'module': 'api.api', 'snippet': 'async def health():\\n    return {\\n        \"status\": \"OK\",\\n        \"app_name\": cfg.APP_NAME,\\n        \"environment\": cfg.ENVIRONMENT,\\n    }', 'struct_name': 'unknown'}, 'docstring': None, 'line': 12, 'line_from': 12, 'line_to': 17, 'name': 'health', 'signature': 'async def health() -> None'}, vector=None, shard_key=None, order_value=None),\n",
       " ScoredPoint(id='861fc08f-b508-4d9b-b6d7-446416d5b738', version=0, score=0.22363628, payload={'code_type': 'Class', 'context': {'file_name': 'settings.py', 'file_path': '/Users/abcom/Desktop/github/reviewturtl/reviewturtl/settings.py', 'module': 'settings', 'snippet': 'class Settings(BaseSettings):\\n    model_config = SettingsConfigDict(env_file=\".env\")\\n    ENVIRONMENT: Environment = Environment.Development\\n    OPENAI_API_KEY: str = \"\"\\n    APP_NAME: str = \"reviewturtl\"\\n\\n    def is_dev(self):\\n        return self.ENVIRONMENT == Environment.Development\\n\\n    def is_prod(self):\\n        return self.ENVIRONMENT == Environment.Production', 'struct_name': 'Settings'}, 'docstring': None, 'line': 10, 'line_from': 10, 'line_to': 20, 'name': 'Settings', 'signature': 'class Settings'}, vector=None, shard_key=None, order_value=None),\n",
       " ScoredPoint(id='ff89ab4a-3e81-40e1-a1f2-2d5061a2d819', version=0, score=0.22081551, payload={'code_type': 'Class', 'context': {'file_name': 'settings.py', 'file_path': '/Users/abcom/Desktop/github/reviewturtl/reviewturtl/settings.py', 'module': 'settings', 'snippet': 'class Environment(str, Enum):\\n    Production = \"PROD\"\\n    Development = \"DEV\"', 'struct_name': 'Environment'}, 'docstring': None, 'line': 6, 'line_from': 6, 'line_to': 8, 'name': 'Environment', 'signature': 'class Environment'}, vector=None, shard_key=None, order_value=None),\n",
       " ScoredPoint(id='61ae1e34-12a7-4216-aed9-b0302a266e07', version=0, score=0.20391303, payload={'code_type': 'Class', 'context': {'file_name': 'summarizer_agent.py', 'file_path': '/Users/abcom/Desktop/github/reviewturtl/reviewturtl/src/agents/summarizer_agent.py', 'module': 'src.agents.summarizer_agent', 'snippet': 'class SummarizerAgent(Agent):\\n    def __init__(self):\\n        super().__init__(DspyProgramme(signature=SummarizerSignature))\\n\\n    def forward(self, file_diff,model=None):\\n        self.prediction_object = self.programme.forward(file_diff=file_diff,model=model)\\n        return self.prediction_object\\n\\n    def walkthrough(self):\\n        return self.prediction_object.walkthrough\\n\\n    def changes_in_tabular_description(self):\\n        return self.prediction_object.changes_in_tabular_description\\n\\n    def __call__(self, file_diff,model=None):\\n        return self.forward(file_diff,model=model)', 'struct_name': 'SummarizerAgent'}, 'docstring': None, 'line': 6, 'line_from': 6, 'line_to': 21, 'name': 'SummarizerAgent', 'signature': 'class SummarizerAgent'}, vector=None, shard_key=None, order_value=None),\n",
       " ScoredPoint(id='53f9ead5-0e3d-4192-8465-ac5d97b13d8d', version=0, score=0.18301794, payload={'code_type': 'Class', 'context': {'file_name': 'reviewer_agent.py', 'file_path': '/Users/abcom/Desktop/github/reviewturtl/reviewturtl/src/agents/reviewer_agent.py', 'module': 'src.agents.reviewer_agent', 'snippet': 'class ReviewerAgent(Agent):\\n    def __init__(self):\\n        super().__init__(DspyProgramme(signature=ReviewerSignature))\\n\\n    def forward(self, file_diff,model=None):\\n        self.prediction_object = self.programme.forward(file_diff=file_diff,model=model)\\n        return self.prediction_object\\n    \\n    def __call__(self, file_diff,model=None):\\n        return self.forward(file_diff,model=model)', 'struct_name': 'ReviewerAgent'}, 'docstring': None, 'line': 6, 'line_from': 6, 'line_to': 15, 'name': 'ReviewerAgent', 'signature': 'class ReviewerAgent'}, vector=None, shard_key=None, order_value=None),\n",
       " ScoredPoint(id='e35191fa-24f2-4b17-a775-7ff149042940', version=0, score=0.1511352, payload={'code_type': 'Function', 'context': {'file_name': 'summarizer.py', 'file_path': '/Users/abcom/Desktop/github/reviewturtl/reviewturtl/api/routers/summarizer.py', 'module': 'api.routers.summarizer', 'snippet': 'async def summarize_code_chunk(\\n    request: Request,\\n    body: SummarizerRequest,\\n) -> StandardResponse:\\n    try:\\n        file_diff_content = body.file_diff\\n        summary = summarizer(file_diff_content)\\n        reasoning = summarizer.reason()\\n        log.debug(f\"Summarized code chunk: {summary}\")\\n        return StandardResponse(\\n            data=SummarizerData(\\n                walkthrough=summary.walkthrough,\\n                tabular_summary=summary.changes_in_tabular_description,\\n                reason=reasoning,\\n            )\\n        )\\n    except Exception as e:\\n        log.error(f\"Error summarizing code chunk: {e}\")\\n        return JSONResponse(\\n            status_code=400,\\n            content=StandardResponse(error=str(e)).model_dump(),\\n        )', 'struct_name': 'unknown'}, 'docstring': None, 'line': 19, 'line_from': 19, 'line_to': 40, 'name': 'summarize_code_chunk', 'signature': \"async def summarize_code_chunk(request, body) -> Name(id='StandardResponse', ctx=Load())\"}, vector=None, shard_key=None, order_value=None),\n",
       " ScoredPoint(id='2b2f6e3e-51ab-4e35-996a-3070101c22ba', version=0, score=0.13926639, payload={'code_type': 'Class', 'context': {'file_name': 'route_types.py', 'file_path': '/Users/abcom/Desktop/github/reviewturtl/reviewturtl/api/route_types.py', 'module': 'api.route_types', 'snippet': 'class SummarizerRequest(BaseModel):\\n    file_diff: str\\n    context: Optional[str] = None', 'struct_name': 'SummarizerRequest'}, 'docstring': None, 'line': 5, 'line_from': 5, 'line_to': 7, 'name': 'SummarizerRequest', 'signature': 'class SummarizerRequest'}, vector=None, shard_key=None, order_value=None),\n",
       " ScoredPoint(id='fd1a0575-8bf2-45c5-b6b7-cdfbe39d7fa5', version=0, score=0.13460897, payload={'code_type': 'Class', 'context': {'file_name': 'route_types.py', 'file_path': '/Users/abcom/Desktop/github/reviewturtl/reviewturtl/api/route_types.py', 'module': 'api.route_types', 'snippet': 'class SummarizerData(BaseModel):\\n    reason: str\\n    walkthrough: str\\n    tabular_summary: str', 'struct_name': 'SummarizerData'}, 'docstring': None, 'line': 13, 'line_from': 13, 'line_to': 16, 'name': 'SummarizerData', 'signature': 'class SummarizerData'}, vector=None, shard_key=None, order_value=None),\n",
       " ScoredPoint(id='538e813d-b548-41ee-9c48-dad2a61e1240', version=0, score=0.13198598, payload={'code_type': 'Function', 'context': {'file_name': 'reviewer.py', 'file_path': '/Users/abcom/Desktop/github/reviewturtl/reviewturtl/api/routers/reviewer.py', 'module': 'api.routers.reviewer', 'snippet': 'async def review_code_chunk(\\n    request: Request,\\n    body: ReviewerRequest,\\n) -> StandardResponse:\\n    try:\\n        file_diff_content = body.file_diff\\n        prediction_object = reviewer(file_diff_content)\\n        log.debug(f\"Review comments: {prediction_object.line_by_line_comments}\")\\n        return StandardResponse(\\n            data=ReviewerData(\\n                line_by_line_comments=prediction_object.line_by_line_comments,\\n            )\\n            )\\n    except Exception as e:\\n        log.error(f\"Error summarizing code chunk: {e}\")\\n        return JSONResponse(\\n            status_code=400,\\n            content=StandardResponse(error=str(e)).model_dump(),\\n        )', 'struct_name': 'unknown'}, 'docstring': None, 'line': 19, 'line_from': 19, 'line_to': 37, 'name': 'review_code_chunk', 'signature': \"async def review_code_chunk(request, body) -> Name(id='StandardResponse', ctx=Load())\"}, vector=None, shard_key=None, order_value=None)]"
      ]
     },
     "execution_count": 9,
     "metadata": {},
     "output_type": "execute_result"
    }
   ],
   "source": [
    "ranked_results"
   ]
  },
  {
   "cell_type": "code",
   "execution_count": null,
   "metadata": {},
   "outputs": [],
   "source": []
  }
 ],
 "metadata": {
  "kernelspec": {
   "display_name": "reviewturtl",
   "language": "python",
   "name": "python3"
  },
  "language_info": {
   "codemirror_mode": {
    "name": "ipython",
    "version": 3
   },
   "file_extension": ".py",
   "mimetype": "text/x-python",
   "name": "python",
   "nbconvert_exporter": "python",
   "pygments_lexer": "ipython3",
   "version": "3.11.0"
  }
 },
 "nbformat": 4,
 "nbformat_minor": 2
}
