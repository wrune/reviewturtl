{
 "cells": [
  {
   "cell_type": "code",
   "execution_count": 1,
   "metadata": {},
   "outputs": [
    {
     "name": "stderr",
     "output_type": "stream",
     "text": [
      "/Users/abcom/.pyenv/versions/3.11.0/envs/reviewturtl/lib/python3.11/site-packages/tqdm/auto.py:21: TqdmWarning: IProgress not found. Please update jupyter and ipywidgets. See https://ipywidgets.readthedocs.io/en/stable/user_install.html\n",
      "  from .autonotebook import tqdm as notebook_tqdm\n"
     ]
    }
   ],
   "source": [
    "import dspy\n",
    "class SummarizerSignature(dspy.Signature):\n",
    "    __doc__ = \"\"\"\n",
    "        >> **General Instructions**\\n\n",
    "        This **file_diff_content** represents changes made to files in a version control system, such as Git.\\n\n",
    "\n",
    "        **Interpretation of the diff:**\\n\n",
    "\n",
    "        1. **File Information**:\\n\n",
    "            - Each section of the diff corresponds to a specific file.\\n\n",
    "            - The header of each section indicates the file path and the type of change (modification, addition, or deletion).\\n\n",
    "\n",
    "        2. **Change Types**:\\n\n",
    "            - **Modification**: Changes made to an existing file.\\n\n",
    "            - **Addition**: A new file has been created.\\n\n",
    "            - **Deletion**: An existing file has been removed.\n",
    "\n",
    "        3. **File Hashes**:\\n\n",
    "            - The old and new file hashes represent the state of the file before and after the changes.\\n\n",
    "            - A hash of `0000000` typically indicates that the file did not exist previously (in the case of a new file).\\n\n",
    "\n",
    "        4. **Line Changes**:\\n\n",
    "            - Lines starting with `-` indicate content that was removed or replaced.\\n\n",
    "            - Lines starting with `+` indicate new content that was added.\\n\n",
    "            - Context lines (without `-` or `+`) provide additional information to understand the changes in the surrounding lines.\\n\n",
    "\n",
    "        **How to Interpret the Diff**:\\n\n",
    "        - The diff output is divided into sections, each representing changes to a specific file.\\n\n",
    "        - The lines prefixed with `-` and `+` show the exact changes made to the file content.\\n\n",
    "        - The context lines help in understanding the modifications in the context of the surrounding code or text.\n",
    "\n",
    "            This diff helps in understanding what changes were made to the files, which lines were added, removed, or modified, and provides a clear view of the modifications in the repository.\\n\n",
    "        >> **Specific Instructions**\\n\n",
    "            - The summary should be in English.\\n\n",
    "            - Provide a short and factoid summary with a short description of the cummalative changes in **walkthrough**.\\n\n",
    "            - Then give the summary of changed content per file in a tabular format in markdown table for **changes_in_tabular_description**.\\\n",
    "            - Do not mention which lines have been changed.\\n\n",
    "            - The change summary in the table should be short and concise.\\n\n",
    "        ### Example:\\n\n",
    "        walkthrough:\\n\n",
    "        The method and logic to calculate the area of the triangle has been changed.\\n\n",
    "        changes_in_tabular_description:\\n\n",
    "        | File Name | Changes |\n",
    "        | --------- | -------- |\n",
    "        | test.txt  | The method to calculate the area of the triangle has been changed. |\n",
    "        | test2.txt | The logic to calculate the area of the triangle has been changed. |\n",
    "    \n",
    "    \"\"\"\n",
    "    file_diff_content:str = dspy.InputField(\n",
    "        desc=\"The diff of the file\",\n",
    "    )\n",
    "    walkthrough:str = dspy.OutputField(\n",
    "        desc=\"The summary of changes made in the PR\",\n",
    "    )\n",
    "    changes_in_tabular_description:str = dspy.OutputField(\n",
    "        desc=\"The Markdown table containing the changes in the file\",\n",
    "    )"
   ]
  },
  {
   "cell_type": "code",
   "execution_count": 2,
   "metadata": {},
   "outputs": [],
   "source": [
    "from dotenv import load_dotenv\n",
    "import os\n",
    "load_dotenv()\n",
    "api_key = os.getenv(\"OPENAI_API_KEY\")\n",
    "turbo = dspy.OpenAI(\n",
    "    model=\"gpt-4o\",\n",
    "    api_key=api_key,\n",
    "    max_tokens=3000,\n",
    ")\n",
    "dspy.settings.configure(lm=turbo)"
   ]
  },
  {
   "cell_type": "code",
   "execution_count": 3,
   "metadata": {},
   "outputs": [],
   "source": [
    "class DspyProgramme(dspy.Module):\n",
    "    def __init__(self, signature):\n",
    "        super().__init__()\n",
    "        self.predictor = dspy.TypedChainOfThought(signature)\n",
    "\n",
    "    def forward(self,context):\n",
    "        return dspy.Prediction(\n",
    "            answer=self.predictor(context=context)\n",
    "        )"
   ]
  },
  {
   "cell_type": "code",
   "execution_count": 4,
   "metadata": {},
   "outputs": [],
   "source": [
    "summarizer_programme = DspyProgramme(signature=SummarizerSignature)"
   ]
  },
  {
   "cell_type": "code",
   "execution_count": 5,
   "metadata": {},
   "outputs": [
    {
     "name": "stdout",
     "output_type": "stream",
     "text": [
      "The changes introduce logging functionality for AI modules, including the addition of a new logging class and methods, modifications to existing API routes to incorporate logging, and updates to the database schema to support the new logging requirements.\n"
     ]
    }
   ],
   "source": [
    "file_diff = \"\"\"\n",
    "    diff --git a/ai/service_desk/api/routers/chat_assist.py b/ai/service_desk/api/routers/chat_assist.py\n",
    "    index acc97831..9944ad65 100644\n",
    "    --- a/ai/service_desk/api/routers/chat_assist.py\n",
    "    +++ b/ai/service_desk/api/routers/chat_assist.py\n",
    "    @@ -1,11 +1,14 @@\n",
    "     from typing import Any\n",
    "    -from fastapi import APIRouter, Request\n",
    "    +from fastapi import APIRouter, Request, BackgroundTasks\n",
    "    +from fastapi.encoders import jsonable_encoder\n",
    "     from service_desk.logger import get_logger\n",
    "     from service_desk.data_types import ChatAssistRequest, User\n",
    "     from service_desk.config import init_config\n",
    "     from service_desk.agents.primary_agent.primary_agent_assist import (\n",
    "         PrimaryAgentAssist,\n",
    "     )\n",
    "    +from core.LogAiModules import LogAiModules, AiLogs\n",
    "    +import json\n",
    "    \n",
    "     log = get_logger(__name__)\n",
    "     router = APIRouter()\n",
    "    @@ -16,11 +19,14 @@\n",
    "         input_dir=None, persist_dir=cfg.rag.persist_dir, embedding_provider_name=\"openai\"\n",
    "     )\n",
    "    \n",
    "    +log_ai_modules = LogAiModules()\n",
    "    +\n",
    "    \n",
    "     @router.post(\"/api/v1/chat/assist\")\n",
    "     async def category_search_with_rank(\n",
    "         request: Request,\n",
    "         body: ChatAssistRequest,\n",
    "    +    background_tasks: BackgroundTasks,\n",
    "     ) -> Any:\n",
    "         json_body = body.model_dump()\n",
    "         conversation_history = json_body.get(\"messages\")\n",
    "    @@ -28,6 +34,7 @@ async def category_search_with_rank(\n",
    "         session_state = json_body.get(\"session_state\")\n",
    "         request_user_object = json_body.get(\"user\")\n",
    "         request_org_id = json_body.get(\"org_id\")\n",
    "    +    session_id = json_body.get(\"context\").get(\"overrides\").get(\"session_id\")\n",
    "    \n",
    "         (\n",
    "             primary_cache,\n",
    "    @@ -57,4 +64,18 @@ async def category_search_with_rank(\n",
    "         response[\"choices\"][0][\"context\"][\"followup_questions\"] = followup_questions\n",
    "         response[\"choices\"][0][\"context\"][\"citations\"] = citations\n",
    "         response[\"choices\"][0][\"context\"][\"user\"] = response_user_object\n",
    "    +    ai_logs = AiLogs(\n",
    "    +        org_id=request_org_id,\n",
    "    +        session_id=session_id,\n",
    "    +        app_id=\"chat-agent-assist\",\n",
    "    +        request_body=json.dumps(json_body),\n",
    "    +        response_body=json.dumps(jsonable_encoder(response)),\n",
    "    +    )\n",
    "    +    background_tasks.add_task(log_ai_modules_task, ai_logs)\n",
    "         return response\n",
    "    +\n",
    "    +\n",
    "    +async def log_ai_modules_task(ai_logs: AiLogs):\n",
    "    +    await log_ai_modules.connect()\n",
    "    +    await log_ai_modules.log_ai_modules(ai_logs=ai_logs)\n",
    "    +    await log_ai_modules.disconnect()\n",
    "    diff --git a/ai/service_desk/data_types/__init__.py b/ai/service_desk/data_types/__init__.py\n",
    "    index f951b82f..f62b6991 100644\n",
    "    --- a/ai/service_desk/data_types/__init__.py\n",
    "    +++ b/ai/service_desk/data_types/__init__.py\n",
    "    @@ -11,6 +11,7 @@ class Message(BaseModel):\n",
    "     class ContextOverrides(BaseModel):\n",
    "         top: int = 7\n",
    "         retrieval_mode: Literal[\"vectors\"] = \"vectors\"\n",
    "    +    session_id: Optional[str] = None\n",
    "         semantic_ranker: bool = True\n",
    "         semantic_captions: bool = False\n",
    "         suggest_followup_questions: bool = False\n",
    "    diff --git a/core/core/LogAiModules.py b/core/core/LogAiModules.py\n",
    "    new file mode 100644\n",
    "    index 00000000..2de319f0\n",
    "    --- /dev/null\n",
    "    +++ b/core/core/LogAiModules.py\n",
    "    @@ -0,0 +1,52 @@\n",
    "    +from prisma import Prisma\n",
    "    +import logging\n",
    "    +from pydantic import BaseModel\n",
    "    +from typing import Any\n",
    "    +\n",
    "    +log = logging.getLogger(__name__)\n",
    "    +\n",
    "    +\n",
    "    +class AiLogs(BaseModel):\n",
    "    +    org_id: str\n",
    "    +    session_id: str\n",
    "    +    app_id: str\n",
    "    +    request_body: Any\n",
    "    +    response_body: Any\n",
    "    +\n",
    "    +\n",
    "    +class LogAiModules:\n",
    "    +    def __init__(self):\n",
    "    +        \"Initialize the LogAiModules class with prisma client\"\n",
    "    +        self.prisma = Prisma()\n",
    "    +\n",
    "    +    async def connect(self):\n",
    "    +        \"Connects to the PostgreSQL database using the Prisma client.\"\n",
    "    +        await self.prisma.connect()\n",
    "    +        await self.prisma.connect()\n",
    "    +\n",
    "    +    async def disconnect(self):\n",
    "    +        \"Disconnects from the PostgreSQL database using the Prisma client.\"\n",
    "    +        await self.prisma.disconnect()\n",
    "    +\n",
    "    +    async def log_ai_modules(self, ai_logs: AiLogs):\n",
    "    +        \"Logs the request and response body to the database.\"\n",
    "    +        try:\n",
    "    +            await self.prisma.ai_logs.create(\n",
    "    +                data={\n",
    "    +                    \"org_id\": ai_logs.org_id,\n",
    "    +                    \"session_id\": ai_logs.session_id,\n",
    "    +                    \"app_id\": ai_logs.app_id,\n",
    "    +                    \"request_body\": ai_logs.request_body,\n",
    "    +                    \"response_body\": ai_logs.response_body,\n",
    "    +                }\n",
    "    +            )\n",
    "    +        except Exception as e:\n",
    "    +            log.error(f\"Error logging AI modules: {e}\")\n",
    "    +            raise e\n",
    "    diff --git a/core/core/db/prisma/migrations/20240629224932_change_app_id/migration.sql b/core/core/db/prisma/migrations/20240629224932_change_app_id/migration.sql\n",
    "    new file mode 100644\n",
    "    index 00000000..99f87af5\n",
    "    --- /dev/null\n",
    "    +++ b/core/core/db/prisma/migrations/20240629224932_change_app_id/migration.sql\n",
    "    @@ -0,0 +1,2 @@\n",
    "    +-- AlterTable\n",
    "    +ALTER TABLE \"ai_logs\" ALTER COLUMN \"app_id\" SET DATA TYPE TEXT;\n",
    "    diff --git a/core/core/db/prisma/schema.prisma b/core/core/db/prisma/schema.prisma\n",
    "    index 804af5f4..d849736e 100644\n",
    "    --- a/core/core/db/prisma/schema.prisma\n",
    "    +++ b/core/core/db/prisma/schema.prisma\n",
    "    @@ -244,7 +244,7 @@ model ai_logs {\n",
    "       created_at    DateTime @default(now()) @db.Timestamptz(6)\n",
    "       org_id        String?  @db.Uuid\n",
    "       session_id    String?  @db.Uuid\n",
    "    -  app_id        String?  @db.Uuid\n",
    "    +  app_id        String?  \n",
    "       request_body  Json?    @db.Json\n",
    "       response_body Json?    @db.Json\n",
    "    }\n",
    "    \"\"\"\n",
    "\n",
    "prediction = summarizer_programme.predictor(\n",
    "    file_diff_content=file_diff\n",
    ")\n",
    "summary = prediction.walkthrough\n",
    "print(summary)"
   ]
  },
  {
   "cell_type": "code",
   "execution_count": 6,
   "metadata": {},
   "outputs": [],
   "source": [
    "k = {\n",
    "    \"file_diff\": file_diff\n",
    "}"
   ]
  },
  {
   "cell_type": "code",
   "execution_count": 7,
   "metadata": {},
   "outputs": [],
   "source": [
    "import json\n",
    "json.dumps(file_diff)\n",
    "# dump to file\n",
    "with open(\"file_diff.json\", \"w\") as f:\n",
    "    f.write(json.dumps(k))"
   ]
  },
  {
   "cell_type": "code",
   "execution_count": 9,
   "metadata": {},
   "outputs": [
    {
     "data": {
      "text/markdown": [
       "| File Name | Changes |\n",
       "| --------- | -------- |\n",
       "| ai/service_desk/api/routers/chat_assist.py | Added logging functionality for AI modules, including background tasks for logging requests and responses. |\n",
       "| ai/service_desk/data_types/__init__.py | Added a new optional field `session_id` to the `ContextOverrides` class. |\n",
       "| core/core/LogAiModules.py | New file created to handle logging of AI modules, including connection to the database and logging methods. |\n",
       "| core/core/db/prisma/migrations/20240629224932_change_app_id/migration.sql | New migration file to alter the `app_id` column type in the `ai_logs` table. |\n",
       "| core/core/db/prisma/schema.prisma | Updated the `app_id` column type in the `ai_logs` model from UUID to String. |"
      ],
      "text/plain": [
       "<IPython.core.display.Markdown object>"
      ]
     },
     "metadata": {},
     "output_type": "display_data"
    }
   ],
   "source": [
    "from IPython.display import display, Markdown\n",
    "# render markdown table\n",
    "display(Markdown(prediction.changes_in_tabular_description))"
   ]
  },
  {
   "cell_type": "code",
   "execution_count": 14,
   "metadata": {},
   "outputs": [
    {
     "data": {
      "text/plain": [
       "Prediction(\n",
       "    reasoning=\"Reasoning: Let's think step by step in order to produce the summary. We observe that the new chunk of code introduces a validation step to ensure that all elements in the input list are either integers or floats. This is done using the `all` function combined with `isinstance`. If any element in the list is not a number, a `ValueError` is raised with an appropriate error message. The rest of the code remains unchanged, where it calculates the sum of the numbers in the list.\",\n",
       "    summary='The new code for the `calculate_sum` function includes an additional validation step to check that all elements in the input list are numbers (either integers or floats). If any element is not a number, the function raises a `ValueError`. This enhancement ensures that the function handles invalid inputs more gracefully, preventing potential errors during the summation process. The core functionality of summing the numbers remains the same.'\n",
       ")"
      ]
     },
     "execution_count": 14,
     "metadata": {},
     "output_type": "execute_result"
    }
   ],
   "source": [
    "prediction"
   ]
  },
  {
   "cell_type": "code",
   "execution_count": 10,
   "metadata": {},
   "outputs": [],
   "source": [
    "class OverconfidentJudge(dspy.Signature):\n",
    "    __doc__ = \"\"\"\n",
    "    You must provide your judgment on why and if the given answer is correct with utmost confidence and persuasiveness.\\n\n",
    "    The judgment should be delivered in a manner that exudes confidence and authority.\n",
    "    \"\"\"\n",
    "    case_description: str = dspy.InputField(\n",
    "        desc=\"The description of the case\",\n",
    "    )\n",
    "    case_answer: str = dspy.InputField(\n",
    "        desc=\"The answer given for the case\",\n",
    "    )\n",
    "    judgment: str = dspy.OutputField(\n",
    "        desc=\"The final judgment for the case\",\n",
    "    )"
   ]
  },
  {
   "cell_type": "code",
   "execution_count": 11,
   "metadata": {},
   "outputs": [
    {
     "name": "stderr",
     "output_type": "stream",
     "text": [
      "python(4757) MallocStackLogging: can't turn off malloc stack logging because it was not enabled.\n"
     ]
    },
    {
     "data": {
      "text/plain": [
       "Prediction(\n",
       "    reasoning='produce the judgment. We need to evaluate the given answer for its accuracy and completeness in summarizing the changes in the files.\\n\\n1. **File Name and Changes**: The table provided lists the file names and the corresponding changes made to each file. This is a clear and concise way to present the information.\\n2. **Specificity**: Each change is described with sufficient detail to understand what was modified or added. For example, the addition of logging functionality, new fields, and new files are all explicitly mentioned.\\n3. **Consistency**: The format is consistent throughout the table, making it easy to read and understand.\\n4. **Relevance**: All the changes listed are relevant to the context of the files mentioned. There are no extraneous details that could confuse the reader.',\n",
       "    judgment='The final judgment for the case is that the given answer is correct. The table accurately and comprehensively summarizes the changes in the files, adhering to the required format and providing clear, detailed descriptions of each modification. This answer is both precise and informative, meeting the criteria for a well-documented summary of file changes.'\n",
       ")"
      ]
     },
     "execution_count": 11,
     "metadata": {},
     "output_type": "execute_result"
    }
   ],
   "source": [
    "overconfident_judge = DspyProgramme(signature=OverconfidentJudge)\n",
    "\n",
    "overconfident_judge.predictor(\n",
    "    case_description=\"you have to provide a summary of changes in the files in a tabular format\",\n",
    "    case_answer=prediction.changes_in_tabular_description,\n",
    ")"
   ]
  },
  {
   "cell_type": "code",
   "execution_count": null,
   "metadata": {},
   "outputs": [],
   "source": []
  }
 ],
 "metadata": {
  "kernelspec": {
   "display_name": "reviewturtl",
   "language": "python",
   "name": "python3"
  },
  "language_info": {
   "codemirror_mode": {
    "name": "ipython",
    "version": 3
   },
   "file_extension": ".py",
   "mimetype": "text/x-python",
   "name": "python",
   "nbconvert_exporter": "python",
   "pygments_lexer": "ipython3",
   "version": "3.11.0"
  }
 },
 "nbformat": 4,
 "nbformat_minor": 2
}
